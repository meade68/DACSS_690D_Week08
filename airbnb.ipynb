{
  "cells": [
    {
      "cell_type": "markdown",
      "metadata": {
        "id": "qEKZtjHDAeEV"
      },
      "source": [
        "<center><img src=\"https://github.com/DACSS-Spatial/data_forSpatial/raw/main/logo.png\" width=\"700\"></center>\n",
        "\n",
        "<a target=\"_blank\" href=\"https://colab.research.google.com/github/DACSS-Spatial/GDF_OPS_applications/blob/main/airbnb.ipynb\">\n",
        "  <img src=\"https://colab.research.google.com/assets/colab-badge.svg\" alt=\"Open In Colab\"/>\n",
        "</a>\n",
        "\n",
        "# POST ON AIRBNB!\n",
        "\n",
        "\n",
        "I  have a place I wish to rent on AirBnb:\n"
      ]
    },
    {
      "cell_type": "code",
      "execution_count": null,
      "metadata": {
        "id": "wnMowczgPILX"
      },
      "outputs": [],
      "source": [
        "myEstate=\"80 Rugg Rd, Allston, MA 02134\""
      ]
    },
    {
      "cell_type": "markdown",
      "metadata": {
        "id": "XWqADLnZVSLZ"
      },
      "source": [
        "It is an **entire unit** with **two bedrooms**."
      ]
    },
    {
      "cell_type": "markdown",
      "metadata": {
        "id": "F_KN5eYhPMtr"
      },
      "source": [
        "## The Problem\n",
        "\n",
        "\n",
        "\n",
        "> How much may I charge for my unit?\n",
        "\n",
        "## The rationale\n",
        "\n",
        "> I will find a fair price based on what others owners are charging nearby."
      ]
    },
    {
      "cell_type": "markdown",
      "metadata": {
        "id": "0QzHsXbwPzR9"
      },
      "source": [
        "## Getting ready"
      ]
    },
    {
      "cell_type": "markdown",
      "metadata": {
        "id": "FPsinxTURT9C"
      },
      "source": [
        "### Installations\n",
        "\n",
        "We will need some help from two new libraries:\n",
        "\n",
        "- **PYSAL** will offer functions to interpolate, that is, estimate an unknown value in a location, based on known values in other locations in the greater area of reference.\n",
        "\n",
        "- **H3**, which will divide the greater area of reference into smaller pieces. H3 will create a grid of hexagons. [H3 is an Uber idea](https://www.uber.com/en-PE/blog/h3/)."
      ]
    },
    {
      "cell_type": "code",
      "execution_count": null,
      "metadata": {
        "id": "K11GJh7LO_uU"
      },
      "outputs": [],
      "source": [
        "# !pip install pysal h3"
      ]
    },
    {
      "cell_type": "markdown",
      "metadata": {
        "id": "X1GWUGLGStFj"
      },
      "source": [
        "### The Data\n",
        "\n",
        "We will work on Boston data.\n",
        "\n",
        "Besides the Boston [boundaries map](https://www.mass.gov/info-details/massgis-data-municipalities), we will know the prices of other locations using [insideairbnb](https://insideairbnb.com/get-the-data/).\n",
        "\n",
        "Let's get the data:\n",
        "\n",
        "\n"
      ]
    },
    {
      "cell_type": "code",
      "execution_count": null,
      "metadata": {
        "id": "tm8Po6O-47Ng"
      },
      "outputs": [],
      "source": [
        "import pandas as pd\n",
        "import geopandas as gpd\n",
        "\n",
        "\n",
        "linkBostonBorder=\"https://github.com/DACSS-Spatial/data_forSpatial/raw/refs/heads/main/BOSTON/GISDATA.TOWNSSURVEY_POLYM.zip\"\n",
        "boston=gpd.read_file(linkBostonBorder)\n",
        "\n",
        "linkBostonAIrbnb=\"https://github.com/DACSS-Spatial/data_forSpatial/raw/refs/heads/main/BOSTON/listings.csv\"\n",
        "airbnb_all=pd.read_csv(linkBostonAIrbnb)"
      ]
    },
    {
      "cell_type": "markdown",
      "metadata": {
        "id": "XjQWSYbNT0VT"
      },
      "source": [
        "The **boston** GDF is already projected, and has just one row.\n"
      ]
    },
    {
      "cell_type": "code",
      "execution_count": null,
      "metadata": {
        "id": "z1qNZXaaUB3N"
      },
      "outputs": [],
      "source": [
        "boston"
      ]
    },
    {
      "cell_type": "markdown",
      "metadata": {
        "id": "cegpQrb1UA8o"
      },
      "source": [
        "On the other hand, **airbnb_all** is a DF with several columns:"
      ]
    },
    {
      "cell_type": "code",
      "execution_count": null,
      "metadata": {
        "id": "VdyBaIr8UaZW"
      },
      "outputs": [],
      "source": [
        "airbnb_all.info()"
      ]
    },
    {
      "cell_type": "markdown",
      "metadata": {
        "id": "y3wzQTZJUt7I"
      },
      "source": [
        "Let's keep some relevant columns:"
      ]
    },
    {
      "cell_type": "code",
      "execution_count": null,
      "metadata": {
        "id": "xs1l4jsJ5LKA"
      },
      "outputs": [],
      "source": [
        "keep=['id','price','bedrooms','property_type','latitude','longitude']\n",
        "airbnb=airbnb_all[keep].copy()\n",
        "airbnb.head()"
      ]
    },
    {
      "cell_type": "markdown",
      "metadata": {
        "id": "-oWjs9LkUzjd"
      },
      "source": [
        "Re check the data types:"
      ]
    },
    {
      "cell_type": "code",
      "execution_count": null,
      "metadata": {
        "id": "lbSSvKCJ7SUX"
      },
      "outputs": [],
      "source": [
        "airbnb.info()"
      ]
    },
    {
      "cell_type": "markdown",
      "metadata": {
        "id": "WGN54DtYU4EN"
      },
      "source": [
        "We need to clean and format the **price** column:"
      ]
    },
    {
      "cell_type": "code",
      "execution_count": null,
      "metadata": {
        "id": "YjTnJjiK519l"
      },
      "outputs": [],
      "source": [
        "airbnb.price.str.replace(r'\\$|\\,', '', regex=True).astype(float)"
      ]
    },
    {
      "cell_type": "markdown",
      "metadata": {
        "id": "QtuExFkEr4V4"
      },
      "source": [
        "Let's make the change, and get rid of missing data:"
      ]
    },
    {
      "cell_type": "code",
      "execution_count": null,
      "metadata": {
        "id": "aKM9M8NS7U8D"
      },
      "outputs": [],
      "source": [
        "#then\n",
        "\n",
        "airbnb['price']=airbnb.price.str.replace(r'\\$|\\,', '', regex=True).astype(float)\n",
        "# bye missing data\n",
        "airbnb.dropna(inplace=True)\n",
        "\n",
        "# check\n",
        "airbnb.info()"
      ]
    },
    {
      "cell_type": "markdown",
      "metadata": {
        "id": "eAMFvdUgVZo0"
      },
      "source": [
        "Using bedrooms and property type, I will keep the ones similar to mine:"
      ]
    },
    {
      "cell_type": "code",
      "execution_count": null,
      "metadata": {
        "id": "VMbdwdt5snpp"
      },
      "outputs": [],
      "source": [
        "pd.crosstab(airbnb.property_type,airbnb.bedrooms)\n"
      ]
    },
    {
      "cell_type": "markdown",
      "metadata": {
        "id": "t00egbqps3Dy"
      },
      "source": [
        "Let's proceed:"
      ]
    },
    {
      "cell_type": "code",
      "execution_count": null,
      "metadata": {
        "id": "oEi2xnRfVvfX"
      },
      "outputs": [],
      "source": [
        "conditionText=\"bedrooms==2 & property_type=='Entire rental unit'\"\n",
        "airbnb_source=airbnb.query(conditionText).copy()\n",
        "airbnb_source"
      ]
    },
    {
      "cell_type": "markdown",
      "metadata": {
        "id": "4DxNpd4dWVuR"
      },
      "source": [
        "Time to turn the DF of airbnb into a GDF:\n",
        "\n",
        "- No duplicated units:"
      ]
    },
    {
      "cell_type": "code",
      "execution_count": null,
      "metadata": {
        "id": "yMIBbkv4AH_u"
      },
      "outputs": [],
      "source": [
        "# Create a list of columns that must be identical to be considered a duplicate\n",
        "key_columns = ['latitude', 'longitude']\n",
        "\n",
        "# Remove rows that are identical across the key columns\n",
        "airbnb_source_unique = airbnb_source.drop_duplicates(subset=key_columns)"
      ]
    },
    {
      "cell_type": "markdown",
      "metadata": {
        "id": "7f0SKrcHXEFG"
      },
      "source": [
        "- Into GDF:"
      ]
    },
    {
      "cell_type": "code",
      "execution_count": null,
      "metadata": {
        "id": "SfHt29sE81SY"
      },
      "outputs": [],
      "source": [
        "airbnb_source_gdf = gpd.GeoDataFrame(\n",
        "    airbnb_source_unique,\n",
        "    geometry=gpd.points_from_xy(airbnb_source_unique.longitude,\n",
        "                                airbnb_source_unique.latitude),\n",
        "    crs='EPSG:4326') #long / lat\n",
        "\n",
        "\n",
        "\n",
        "airbnb_source_gdf=airbnb_source_gdf.to_crs(boston.crs)"
      ]
    },
    {
      "cell_type": "markdown",
      "metadata": {
        "id": "Byo5n4RoX8Nz"
      },
      "source": [
        "Let's see both layers:"
      ]
    },
    {
      "cell_type": "code",
      "execution_count": null,
      "metadata": {
        "id": "o6bRjElR-DNn"
      },
      "outputs": [],
      "source": [
        "base=boston.plot(figsize=(10,10),alpha=0.1,edgecolor='black')\n",
        "airbnb_source_gdf.plot(ax=base,marker=\"+\",color='red')"
      ]
    },
    {
      "cell_type": "markdown",
      "metadata": {
        "id": "1sL3FSh1YEQH"
      },
      "source": [
        "## The need for Spatial Interpolation\n",
        "\n",
        "\n",
        "We have a unit for rent, but there is no catalog that tells us how much one should charge. We could ask friends and familiy  for suggestions, but we decide to estimate the rental charge based on what others charge. Then, with lots of prices around, we need to see how proximity plays a role to propose a fair price for our estate. That is when interpolation comes to our help.\n",
        "\n",
        "Spatial Interpolation assumes Waldo Tobler's [idea](https://en.wikipedia.org/wiki/Tobler%27s_first_law_of_geography) that proximity influences spatially located phenonenom. So, spatial interpolation is the mathematical process that formalizes this idea. It takes our scattered known prices and creates a continuous surface of predicted prices that covers our entire neighborhood, thus allowing us to estimate the price for our specific unlisted location.\n",
        "\n",
        "Spatial Interpolation has two flavors:\n",
        "- Areal Interpolation\n",
        "- Point Interpolation\n",
        "\n",
        "Our case is **Point Interpolation**, an interpolation of values (prices) from a sparse set of points (the AirBnb units known similar to mine) to any other location in between (we will prepare this soon)."
      ]
    },
    {
      "cell_type": "markdown",
      "metadata": {
        "id": "EcVDv0uRhYty"
      },
      "source": [
        "### Creating Target Grid\n",
        "\n",
        "We have known data:\n",
        "\n",
        "- Current AirBnb unit locations similar to mine.\n",
        "- The reantal prices of those AirBnb units.\n",
        "- The address of my unit.\n",
        "\n",
        "We do not have:\n",
        "- The rental price of my unit.\n",
        "\n",
        "We need a GRID of points, where each point ideally represents potential rental locations with its own rental prices. Since not every point on the grid has a rental price, that value will be estimated from the locations with known rental prices.\n",
        "\n",
        "How to get that grid?\n",
        "\n",
        "- **option 1**. Let's get a satellite image of the area that covers Boston, the image should have a sufficient high resolution to identify at least house level area. Several operation would be needed (defining pixel size, extent/clipping, and aligning coordinates), and get the centroid of the square retrieved.\n",
        "\n",
        "- **option 2**. Let's use UBER's H3 grid. This will split Boston into lots of hexagons with a proper resolution, and get the centroids of those hexagons.\n",
        "\n",
        "The easiest choice, and likely better, would be the **option 2**. These are the steps:\n",
        "\n",
        "- call \"tobler\" library\n",
        "- use \"tobler.util.h3fy\" function on \"boston\" GDF with a \"resolution\" of 10.\n",
        "- You would get a warning. But to avoid it:\n",
        "  * In _tobler.util.h3fy_ use _boston_ with the crs 4326\n",
        "  * Reproject the result of _tobler.util.h3fy_ with the original _boston_ crs.\n",
        "\n",
        "\n"
      ]
    },
    {
      "cell_type": "code",
      "execution_count": null,
      "metadata": {
        "id": "22tcgNl4Bryw"
      },
      "outputs": [],
      "source": [
        "import tobler\n",
        "\n",
        "# this gives a warning, no worries\n",
        "tobler.util.h3fy(boston, resolution=10)"
      ]
    },
    {
      "cell_type": "code",
      "execution_count": null,
      "metadata": {
        "id": "H_8_rtxprB5z"
      },
      "outputs": [],
      "source": [
        "# this gives no warning, but NOT really needed:\n",
        "boston_grid10=tobler.util.h3fy(boston.to_crs(4326), resolution=10).to_crs(boston.crs)"
      ]
    },
    {
      "cell_type": "markdown",
      "metadata": {
        "id": "Ge8HI_JU2F2r"
      },
      "source": [
        "Notice we used a prastical level of **resolution** for our case, you can use higher or lower [values](https://gist.github.com/colbyn/001064f00385d253b42693c3889f9beb) depending on the project.\n",
        "\n",
        "Now, we get the points from the hexagons:"
      ]
    },
    {
      "cell_type": "code",
      "execution_count": null,
      "metadata": {
        "id": "Yc8Q1U1XCnCs"
      },
      "outputs": [],
      "source": [
        "boston_target_locations = boston_grid10.centroid.get_coordinates()\n",
        "boston_target_locations.head()"
      ]
    },
    {
      "cell_type": "markdown",
      "metadata": {
        "id": "rYoM5lrkrebR"
      },
      "source": [
        "We do not estimate prices for the hexagons, we estimate prices for their centroids, now **boston_target_locations**."
      ]
    },
    {
      "cell_type": "markdown",
      "metadata": {
        "id": "setFtin9Z8_1"
      },
      "source": [
        "### The Estimation approaches\n",
        "\n",
        "\n",
        "Let's organize the input for  the estimations:\n",
        "\n",
        "- These are coordinates of the airbnb units:"
      ]
    },
    {
      "cell_type": "code",
      "execution_count": null,
      "metadata": {
        "id": "Hlno722ABs7b"
      },
      "outputs": [],
      "source": [
        "airbnb_source_locations = airbnb_source_gdf.get_coordinates()\n",
        "airbnb_source_locations"
      ]
    },
    {
      "cell_type": "markdown",
      "metadata": {
        "id": "1MupMxA6sVq7"
      },
      "source": [
        "- These are the known rental prices"
      ]
    },
    {
      "cell_type": "code",
      "execution_count": null,
      "metadata": {
        "id": "9rusSxD_sdIF"
      },
      "outputs": [],
      "source": [
        "airbnb_source_gdf.price"
      ]
    },
    {
      "cell_type": "markdown",
      "metadata": {
        "id": "OnGSFOUPsiOO"
      },
      "source": [
        "- This is the target grid:"
      ]
    },
    {
      "cell_type": "code",
      "execution_count": null,
      "metadata": {
        "id": "8QQL03WRsnCk"
      },
      "outputs": [],
      "source": [
        "boston_target_locations"
      ]
    },
    {
      "cell_type": "markdown",
      "metadata": {
        "id": "KkcThT_dssed"
      },
      "source": [
        "Notice none of the data above are geo data, but the projected locations (x,y) can used in other programs. Let's make several estimations:\n",
        "\n",
        "- **approach 1**: I will charge the same as the closest airbnb similar to mine."
      ]
    },
    {
      "cell_type": "code",
      "execution_count": null,
      "metadata": {
        "id": "nyS3-Q_fCsiG"
      },
      "outputs": [],
      "source": [
        "from scipy.interpolate import griddata\n",
        "\n",
        "boston_grid10[\"nearest\"] = griddata(points=airbnb_source_locations,\n",
        "                                    values=airbnb_source_gdf.price,\n",
        "                                    xi=boston_target_locations,\n",
        "                                    method=\"nearest\")\n",
        "\n",
        "# here we have:\n",
        "\n",
        "boston_grid10.plot('nearest', legend=True,figsize=(10,10))"
      ]
    },
    {
      "cell_type": "markdown",
      "metadata": {
        "id": "tH7iYdLrzHZH"
      },
      "source": [
        "- **approach 2**: I will charge the same as the average of the closest similar AirBnb rental units. How many 'closest units', that **K** value may vary. I will use 10."
      ]
    },
    {
      "cell_type": "code",
      "execution_count": null,
      "metadata": {
        "id": "o7cNOGPAD8_J"
      },
      "outputs": [],
      "source": [
        "from sklearn.neighbors import KNeighborsRegressor\n",
        "\n",
        "interpolation_uniform = KNeighborsRegressor(n_neighbors=10,\n",
        "                                            weights=\"uniform\").\\\n",
        "                                            fit(airbnb_source_locations,\n",
        "                                                airbnb_source_gdf.price)\n",
        "\n",
        "boston_grid10[\"knn10_uniform\"] = interpolation_uniform.predict(boston_target_locations)\n",
        "\n",
        "# here we have\n",
        "boston_grid10.plot(\"knn10_uniform\", legend=True,figsize=(10,10))"
      ]
    },
    {
      "cell_type": "markdown",
      "metadata": {
        "id": "vG6Ye4Da6foN"
      },
      "source": [
        "- **approach 3**: I will charge based on some close AirBnb rental units, I will weight the average based on their distance to me, a closer unit will weight more, a farther unit will weight less. This is alsa called IDW (Inverse Distance Weight)."
      ]
    },
    {
      "cell_type": "code",
      "execution_count": null,
      "metadata": {
        "id": "tEkfPMRvE0Uk"
      },
      "outputs": [],
      "source": [
        "\n",
        "\n",
        "\n",
        "interpolation_IDW = KNeighborsRegressor(n_neighbors=10,\n",
        "                                            weights=\"distance\").\\\n",
        "                                            fit(airbnb_source_locations,\n",
        "                                                airbnb_source_gdf.price)\n",
        "\n",
        "boston_grid10[\"IDW_10\"] = interpolation_IDW.predict(boston_target_locations)\n",
        "\n",
        "# here we have\n",
        "boston_grid10.plot(\"IDW_10\", legend=True,figsize=(10,10))"
      ]
    },
    {
      "cell_type": "markdown",
      "metadata": {
        "id": "DS3ZJJ-R9HsI"
      },
      "source": [
        "- **approach 4**: I will charge based on all AirBnb rental units located within a fixed radius of 1000 meters from my unit. I will then weight the average based on their distance to me, so a closer unit will weight more, and a farther unit will weight less. This is essentially Inverse Distance Weighting (IDW) where the size of the local neighborhood is defined by a distance (1000m) instead of a fixed number of neighbors."
      ]
    },
    {
      "cell_type": "code",
      "execution_count": null,
      "metadata": {
        "id": "gSxO8LPkFKKC"
      },
      "outputs": [],
      "source": [
        "from sklearn.neighbors import RadiusNeighborsRegressor\n",
        "\n",
        "interpolation_radius = RadiusNeighborsRegressor(\n",
        "    radius=1000, weights=\"distance\"\n",
        ")\n",
        "interpolation_radius.fit(\n",
        "    airbnb_source_locations, airbnb_source_gdf.price\n",
        ")\n",
        "\n",
        "boston_grid10[\"radius_1000\"] = interpolation_radius.predict(boston_target_locations)\n",
        "\n",
        "boston_grid10.plot(\"radius_1000\", legend=True, missing_kwds={'color': 'lightgrey'},figsize=(10,10))"
      ]
    },
    {
      "cell_type": "markdown",
      "metadata": {
        "id": "h6vtkdOc91ej"
      },
      "source": [
        "## So, How much should I charge\n",
        "\n",
        "Some previous steps:\n",
        "\n",
        "\n",
        "1.   Find the coordinates of my unit: This is good time to *geocode*.\n",
        "\n"
      ]
    },
    {
      "cell_type": "code",
      "execution_count": null,
      "metadata": {
        "id": "K7Wh0vOLrskY"
      },
      "outputs": [],
      "source": [
        "from geopy.geocoders import Nominatim\n",
        "from shapely.geometry import Point\n",
        "\n",
        "geolocator = Nominatim(user_agent=\"theGeocoder\")\n",
        "\n",
        "myEstate_Address = geolocator.geocode(myEstate)\n",
        "\n",
        "# see\n",
        "myEstate_Address"
      ]
    },
    {
      "cell_type": "markdown",
      "metadata": {
        "id": "dAbvW09ssH4b"
      },
      "source": [
        "The **geolocator.geocode** returned a **Location** structure. You can access each piece of information from this structure like this:"
      ]
    },
    {
      "cell_type": "code",
      "execution_count": null,
      "metadata": {
        "id": "Rxer8_tUsdxM"
      },
      "outputs": [],
      "source": [
        "myEstate_Address.address, myEstate_Address.longitude,myEstate_Address.latitude"
      ]
    },
    {
      "cell_type": "markdown",
      "metadata": {
        "id": "NyPOnuKjs2jY"
      },
      "source": [
        "You can create a GDF with that:"
      ]
    },
    {
      "cell_type": "code",
      "execution_count": null,
      "metadata": {
        "id": "w1WVduJVh025"
      },
      "outputs": [],
      "source": [
        "myEstats_gdf4326 = gpd.GeoDataFrame(\n",
        "    {'address': [myEstate_Address.address]},\n",
        "    geometry=[Point(myEstate_Address.longitude, myEstate_Address.latitude)],\n",
        "    crs=\"EPSG:4326\" # because of lon/lat\n",
        ")\n",
        "\n",
        "# reprojecting\n",
        "myEstats_gdf = myEstats_gdf4326.to_crs(boston.crs)\n",
        "\n",
        "# here it is\n",
        "myEstats_gdf\n"
      ]
    },
    {
      "cell_type": "markdown",
      "metadata": {
        "id": "RhCMfj1e-bIK"
      },
      "source": [
        "2. Find in which hexagon my unit is located, and bring those prices:"
      ]
    },
    {
      "cell_type": "code",
      "execution_count": null,
      "metadata": {
        "id": "db4FAA--jNqO"
      },
      "outputs": [],
      "source": [
        "myEstats_gdf.sjoin(\n",
        "    boston_grid10,\n",
        "    how=\"left\",\n",
        "    predicate=\"within\"\n",
        ")"
      ]
    },
    {
      "cell_type": "markdown",
      "metadata": {
        "id": "0KK_OJaw-oiI"
      },
      "source": [
        "You decide:"
      ]
    },
    {
      "cell_type": "markdown",
      "metadata": {
        "id": "FmXqsM4LjwHk"
      },
      "source": [
        "| Price Interpolation Method | Price Recommendation | Rationale |\n",
        "|---------------------------|----------------------|-----------|\n",
        "| **nearest** | The most conservative starting price. | It's based only on the price of the single closest competitor. |\n",
        "| **knn10_uniform** | A balanced average price. | It smooths out the highest/lowest outliers by averaging the prices of the k nearest neighbors equally. |\n",
        "| **IDW_10** | The most data-driven price (Recommended). | This is your Inverse Distance Weighting (IDW) result. It's the most robust prediction as it gives greater influence to very nearby, similar properties. |\n",
        "| **radius_1000** | A highly localized price (Use with caution). | Only reflects the market of properties within a short, fixed distance. If you have a NaN here, it suggests your property is too remote for a localized comparison. |\n",
        "\n"
      ]
    },
    {
      "cell_type": "markdown",
      "metadata": {
        "id": "KTrld7TiQ298"
      },
      "source": [
        "Since we have no missing values, we could choose 'radius_1000' option':"
      ]
    },
    {
      "cell_type": "code",
      "execution_count": null,
      "metadata": {
        "id": "4RP8yyv-Q298"
      },
      "outputs": [],
      "source": [
        "base=boston_grid10.plot(\"radius_1000\", legend=True, missing_kwds={'color': 'lightgrey'},figsize=(10,10))\n",
        "myEstats_gdf.plot(ax=base,color='red')"
      ]
    },
    {
      "cell_type": "markdown",
      "metadata": {
        "id": "MQ7QM5i1Q299"
      },
      "source": [
        "______\n",
        "\n",
        "[BACK TO MAIN MENU](https://dacss-spatial.github.io/GDF_OPS_applications/)"
      ]
    }
  ],
  "metadata": {
    "colab": {
      "provenance": []
    },
    "kernelspec": {
      "display_name": "Python 3 (ipykernel)",
      "language": "python",
      "name": "python3"
    },
    "language_info": {
      "codemirror_mode": {
        "name": "ipython",
        "version": 3
      },
      "file_extension": ".py",
      "mimetype": "text/x-python",
      "name": "python",
      "nbconvert_exporter": "python",
      "pygments_lexer": "ipython3",
      "version": "3.11.13"
    }
  },
  "nbformat": 4,
  "nbformat_minor": 0
}