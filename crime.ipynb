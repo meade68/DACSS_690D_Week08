{
 "cells": [
  {
   "cell_type": "markdown",
   "metadata": {
    "id": "56Hi0APxLn6L"
   },
   "source": [
    "<center><img src=\"https://github.com/DACSS-Spatial/data_forSpatial/raw/main/logo.png\" width=\"700\"></center>\n",
    "\n",
    "<a target=\"_blank\" href=\"https://colab.research.google.com/github/DACSS-Spatial/GDF_OPS_applications/blob/main/crime.ipynb\">\n",
    "  <img src=\"https://colab.research.google.com/assets/colab-badge.svg\" alt=\"Open In Colab\"/>\n",
    "</a>\n",
    "\n",
    "\n",
    "# How is crime in this area?\n",
    "\n",
    "It is important to know a close average of crime of a place of interest. Maybe you are a city counselor who wants to request a better way to distribute your limited police resources, but you realize official reports or surveys are too aggregated to support your decision-making.\n",
    "\n",
    "This is a good case for areal interpolation. You know the county level of crime, but not the situation of your closer locality. Your interest is not a point; you cannot efficiently safeguard person by person. Thus, you are due to make your best estimate for a particular area where significant strategies could be deployed effective and efficiently."
   ]
  },
  {
   "cell_type": "markdown",
   "metadata": {
    "id": "qCcQDk6aLn6R"
   },
   "source": [
    "## The libraries needed\n",
    "\n",
    "We will need Pysal, openpyxl, h3, geopy, and as usual GeoPandas. I will . Make sure they are installed:"
   ]
  },
  {
   "cell_type": "code",
   "execution_count": null,
   "metadata": {
    "id": "a9P_Yf0SLn6S"
   },
   "outputs": [],
   "source": [
    "# !pip show pysal openpyxl geopandas pandas h3 geopy"
   ]
  },
  {
   "cell_type": "markdown",
   "metadata": {
    "id": "XReFXr4hLn6T"
   },
   "source": [
    "## The data inventory\n",
    "\n",
    "According to what we have, we can make the best of it.\n",
    "\n",
    "1. Counties map in Massachussetts (from [MASS.GOV](https://www.mass.gov/info-details/massgis-data-counties)):"
   ]
  },
  {
   "cell_type": "code",
   "execution_count": null,
   "metadata": {
    "id": "lz4o14Lgp0Cb"
   },
   "outputs": [],
   "source": [
    "mainGitHub='https://github.com/DACSS-Spatial/data_forSpatial/raw/refs/heads/main/'\n",
    "linkCountiesMA=mainGitHub+\"MASSACHUSETTS/counties_mass.zip\"\n",
    "\n",
    "import geopandas as gpd\n",
    "countiesMA = gpd.read_file(linkCountiesMA)\n",
    "\n",
    "countiesMA.info()"
   ]
  },
  {
   "cell_type": "markdown",
   "metadata": {
    "id": "DL1nZc-ULn6U"
   },
   "source": [
    "2. The crime per county in the USA (from [KAGGLE](https://www.kaggle.com/datasets/mikejohnsonjr/united-states-crime-rates-by-county/data))"
   ]
  },
  {
   "cell_type": "code",
   "execution_count": null,
   "metadata": {
    "id": "0lkm_T0YRi2W"
   },
   "outputs": [],
   "source": [
    "import pandas as pd\n",
    "\n",
    "\n",
    "linkCrimeCountyUSA=mainGitHub+\"MASSACHUSETTS/crime_data_w_population_and_crime_rate.xlsx\"\n",
    "CrimeCountyUSA = pd.read_excel(linkCrimeCountyUSA)\n",
    "\n",
    "CrimeCountyUSA.info()"
   ]
  },
  {
   "cell_type": "markdown",
   "metadata": {
    "id": "Lg1SwASgLn6V"
   },
   "source": [
    "3. The map of municipalities of MA ([MAP-GIS](https://www.mass.gov/info-details/massgis-data-municipalities))"
   ]
  },
  {
   "cell_type": "code",
   "execution_count": null,
   "metadata": {
    "id": "Il1cfhtnLn6W"
   },
   "outputs": [],
   "source": [
    "linkMunsMA=mainGitHub+\"MASSACHUSETTS/municipalities.zip\"\n",
    "\n",
    "import geopandas as gpd\n",
    "MunsMA = gpd.read_file(linkMunsMA)\n",
    "\n",
    "MunsMA.info()"
   ]
  },
  {
   "cell_type": "markdown",
   "metadata": {
    "id": "qz3pMXaALn6W"
   },
   "source": [
    "## Preprocessing the \"source\" and \"target\"\n",
    "\n",
    "Areal interpolation is a technique that estimates data values for a set of target zones by redistributing known values from a different set of overlapping source zones. The goal is to obtain estimates for unknown values at the TARGET level based on the known counts at the SOURCE level.\n",
    "\n",
    "This requires some preprocessing:\n",
    "\n",
    "1. Establish a **Consistent, Projected CRS**. All GeoDataFrames must share the same projected CRS (e.g., EPSG:3857, UTM, or a local Equal-Area projection) to ensure that geometric calculations like area overlap and feature intersection are accurate and not distorted by latitude/longitude measurements.\n",
    "2. Ensure **Geometric Alignment**. Confirm that the source and target boundaries are geometrically clean (no self-intersections or gaps) and that the target units perfectly tile the source units where data is to be estimated.\n",
    "3. **The source map should have the variable of interest**. The crime data is not yet there, it is in a different file; we need to merge the crime data from a DataFrame into the counties GeoDataFrame. If you have population data, keep it.\n",
    "\n",
    "\n",
    "In all cases, give a good format to column names so they are self-descriptive.\n",
    "   "
   ]
  },
  {
   "cell_type": "markdown",
   "metadata": {
    "id": "INKxSjvxLn6W"
   },
   "source": [
    "### The CRS\n",
    "\n",
    "Let's confirm the are projected, and share the same crs:"
   ]
  },
  {
   "cell_type": "code",
   "execution_count": null,
   "metadata": {
    "id": "wVODzmlHLn6X"
   },
   "outputs": [],
   "source": [
    "countiesMA.crs.to_epsg(), MunsMA.crs.to_epsg(), MunsMA.crs.is_projected"
   ]
  },
  {
   "cell_type": "markdown",
   "metadata": {
    "id": "VuRbryg7Ln6b"
   },
   "source": [
    "The crs '26986' is an adequate projection, provides the necessary local accuracy and area preservation required to run interpolation in Massachusetts."
   ]
  },
  {
   "cell_type": "markdown",
   "metadata": {
    "id": "HrPHinrzLn6c"
   },
   "source": [
    "### The Alignment of Target GDF\n",
    "\n",
    "Let's verify we have the same amount of counties:"
   ]
  },
  {
   "cell_type": "code",
   "execution_count": null,
   "metadata": {
    "id": "3lwGXKAgLn6d"
   },
   "outputs": [],
   "source": [
    "len(set(MunsMA.fips_stco)), len(set(countiesMA.fips_id))"
   ]
  },
  {
   "cell_type": "markdown",
   "metadata": {
    "id": "GcMboWh1Ln6d"
   },
   "source": [
    "So the count is ok."
   ]
  },
  {
   "cell_type": "markdown",
   "metadata": {
    "id": "UxLN42ouLn6d"
   },
   "source": [
    "Let me verify alignment between both GDFs. If we dissolve the municipalities/towns by county - the union of this GDF with the countiesMA GDF should have the same amount of rows (14)"
   ]
  },
  {
   "cell_type": "code",
   "execution_count": null,
   "metadata": {
    "id": "dAUOgOr-Ln6d"
   },
   "outputs": [],
   "source": [
    "countiesMA.overlay(MunsMA.dissolve(by='county'),keep_geom_type=True,how='union').shape"
   ]
  },
  {
   "cell_type": "markdown",
   "metadata": {
    "id": "JTWczeokLn6e"
   },
   "source": [
    "We have 35 polygons. We expected 14. The smart solution is to use the municipalities themselves to build up the counties.  Let's see how MunsMA can serve for the counties map:"
   ]
  },
  {
   "cell_type": "code",
   "execution_count": null,
   "metadata": {
    "id": "gEDQLa7_Ln6e"
   },
   "outputs": [],
   "source": [
    "countiesMA_source=MunsMA.dissolve(by='fips_stco',as_index=False)\n",
    "\n",
    "keep=['fips_stco','geometry']\n",
    "countiesMA_source=countiesMA_source[keep]\n",
    "countiesMA_source.rename(columns={'fips_stco':'fips_id'},inplace=True)\n",
    "\n",
    "# here\n",
    "countiesMA_source.info()"
   ]
  },
  {
   "cell_type": "markdown",
   "metadata": {
    "id": "cPsG3FKwLn6e"
   },
   "source": [
    "This should give 14:"
   ]
  },
  {
   "cell_type": "code",
   "execution_count": null,
   "metadata": {
    "id": "hOthvseGLn6f"
   },
   "outputs": [],
   "source": [
    "countiesMA_source.overlay(MunsMA.dissolve(by='county'),keep_geom_type=True,how='union').shape"
   ]
  },
  {
   "cell_type": "markdown",
   "metadata": {
    "id": "UJc87FP6Ln6f"
   },
   "source": [
    "Now we are sure both county and municipality maps align."
   ]
  },
  {
   "cell_type": "markdown",
   "metadata": {
    "id": "TJJZqypgLn6f"
   },
   "source": [
    "### The Target map"
   ]
  },
  {
   "cell_type": "markdown",
   "metadata": {
    "id": "4jghId2lLn6f"
   },
   "source": [
    "The municipalities map is our target. Let's just keep what may be needed:"
   ]
  },
  {
   "cell_type": "code",
   "execution_count": null,
   "metadata": {
    "id": "Y0ysso-8Ln6f"
   },
   "outputs": [],
   "source": [
    "keep=['town','county','fips_stco','pop2020','geometry']\n",
    "municipalitiesMA_target=MunsMA[keep].copy()\n",
    "municipalitiesMA_target.rename(columns={'fips_stco':'fips_id'},inplace=True)\n",
    "municipalitiesMA_target"
   ]
  },
  {
   "cell_type": "markdown",
   "metadata": {
    "id": "uOXUcdE5Ln6f"
   },
   "source": [
    "### The Merging\n",
    "\n",
    "We will merge **CrimeCountyUSA**  DF into **crimeMA** GDF.\n",
    "\n",
    "Let's check the county names, which is the key for merging DF into GDF:"
   ]
  },
  {
   "cell_type": "code",
   "execution_count": null,
   "metadata": {
    "id": "MXDYCwocLn6g"
   },
   "outputs": [],
   "source": [
    "CrimeCountyUSA.head(2)"
   ]
  },
  {
   "cell_type": "markdown",
   "metadata": {
    "id": "uPgXMsLLLn6g"
   },
   "source": [
    "The DF _CrimeCountyUSA_ has different county names than the _countiesMA_source_. But both have some \"fips\" information. _CrimeCountyUSA_ has 'FIPS_ST' and 'FIPS_CTY' which will help us build a column exactly as *fips_id* in countiesMA GDF.\n",
    "\n",
    "Let's create 'fips_id' in a copy of the CrimeCountyUSA. Let's also keep some columns."
   ]
  },
  {
   "cell_type": "code",
   "execution_count": null,
   "metadata": {
    "id": "2jmJMfPTLn6g"
   },
   "outputs": [],
   "source": [
    "# just a copy\n",
    "crimeMA=CrimeCountyUSA.copy()\n",
    "\n",
    "# adding a column 'fips_id'\n",
    "crimeMA=crimeMA.assign(fips_id=crimeMA.FIPS_ST*1000+crimeMA.FIPS_CTY)\n",
    "\n",
    "# subetting crimeMA\n",
    "keep=['county_name','fips_id','population','BURGLRY','AGASSLT']\n",
    "crimeMA=crimeMA[keep]\n",
    "\n",
    "# renaming\n",
    "crimeMA.rename(columns={'AGASSLT':'AG_ASSLT'},inplace=True)\n",
    "\n",
    "# see\n",
    "crimeMA.head()"
   ]
  },
  {
   "cell_type": "markdown",
   "metadata": {
    "id": "SPkluxeLLn6g"
   },
   "source": [
    "#### Extensive and Intensive values\n",
    "\n",
    "Counts are extensive values. The crimes we selected are currently of the extensive kind. We could think of creating an intensive variable by normalizing those counts by the county population (remember Choropleths use these kind of variables):"
   ]
  },
  {
   "cell_type": "code",
   "execution_count": null,
   "metadata": {
    "id": "28r0JOx1Ln6g"
   },
   "outputs": [],
   "source": [
    "crimeMA['BURGLRY_rate10K']=10000*crimeMA.BURGLRY/crimeMA.population\n",
    "crimeMA['AG_ASSLT_rate10K']=10000*crimeMA.AG_ASSLT/crimeMA.population"
   ]
  },
  {
   "cell_type": "markdown",
   "metadata": {
    "id": "RJaADLDmLn6h"
   },
   "source": [
    "The merge would be easy now:"
   ]
  },
  {
   "cell_type": "code",
   "execution_count": null,
   "metadata": {
    "id": "zempxuI22O0E",
    "scrolled": true
   },
   "outputs": [],
   "source": [
    "# merge by \"fips_id\"\n",
    "countiesMA_source=countiesMA_source.merge(crimeMA)"
   ]
  },
  {
   "cell_type": "markdown",
   "metadata": {
    "id": "kGuvTLMmLn6h"
   },
   "source": [
    "Our source GDF is ready:"
   ]
  },
  {
   "cell_type": "code",
   "execution_count": null,
   "metadata": {
    "id": "OfPrim-wLn6h"
   },
   "outputs": [],
   "source": [
    "countiesMA_source.info()"
   ]
  },
  {
   "cell_type": "markdown",
   "metadata": {
    "id": "sJmbgHweLn6h"
   },
   "source": [
    "## Option 1: Areal interpolation\n",
    "\n",
    "Areal interpolation is the simplest way to move data from one set of large boundary areas to a new set of smaller boundary areas, contained in the large one.\n",
    "\n",
    "Imagine you have crime data for entire counties (your source areas), but you need to know the crime rate for city limits (your target areas).\n",
    "\n",
    "The simplest version of areal interpolation is the \"Area-Weighted\" method:\n",
    "\n",
    "Overlap: You figure out how much of the old area (County A) overlaps the new area (City 1).\n",
    "\n",
    "Proportion: If 25% of County A's area covers City 1, you assign 25% of County A's total crime count to City 1.\n",
    "\n",
    "It's a straightforward geographical averaging—it assumes the crime is spread evenly across the entire source area. This often leads to inaccurate estimates, but it's a quick, easy baseline for transferring data between incompatible maps.\n",
    "\n",
    "Let' use tobler(area_weighted) library's **area_interpolate**. Notice we can interpolate extensice and intensive variables."
   ]
  },
  {
   "cell_type": "code",
   "execution_count": null,
   "metadata": {
    "id": "HO_5NqViLn6i"
   },
   "outputs": [],
   "source": [
    "from tobler.area_weighted  import area_interpolate as interpolate\n",
    "\n",
    "myExtensive=['AG_ASSLT','BURGLRY']\n",
    "myIntensive=['AG_ASSLT_rate10K','BURGLRY_rate10K']\n",
    "\n",
    "municipalitiesMA_target.set_index('fips_id',inplace=True)\n",
    "\n",
    "\n",
    "areal_municipalities = interpolate(\n",
    "    source_df=countiesMA_source,\n",
    "    target_df=municipalitiesMA_target,\n",
    "    extensive_variables=myExtensive,\n",
    "    intensive_variables=myIntensive\n",
    ")"
   ]
  },
  {
   "cell_type": "markdown",
   "metadata": {
    "id": "Dmj96RYVLn6i"
   },
   "source": [
    "This the resulting GDF (interpolated):"
   ]
  },
  {
   "cell_type": "code",
   "execution_count": null,
   "metadata": {
    "id": "0TRX_6NGLn6n"
   },
   "outputs": [],
   "source": [
    "areal_municipalities"
   ]
  },
  {
   "cell_type": "markdown",
   "metadata": {
    "id": "HT9m4SMoLn6n"
   },
   "source": [
    "This is a new GDF. Here, you have the variables for each of the municipalities."
   ]
  },
  {
   "cell_type": "markdown",
   "metadata": {
    "id": "3EpTDE-kLn6o"
   },
   "source": [
    "### Concatenating aereal interpolation to Target\n",
    "\n",
    "These new columns will be concatenated (added) to the municipalities. Let's prepare the concatenation:\n",
    "\n",
    "1. Drop the geometry column: once concatenated"
   ]
  },
  {
   "cell_type": "code",
   "execution_count": null,
   "metadata": {
    "id": "RFl6rJeGLn6o"
   },
   "outputs": [],
   "source": [
    "areal_municipalities.drop(columns='geometry',inplace=True)"
   ]
  },
  {
   "cell_type": "markdown",
   "metadata": {
    "id": "wpvi0XWFLn6o"
   },
   "source": [
    "2. Rename the columns, so as to inform the process:"
   ]
  },
  {
   "cell_type": "code",
   "execution_count": null,
   "metadata": {
    "id": "s8lhIj90Ln6o"
   },
   "outputs": [],
   "source": [
    "# current columns names\n",
    "areal_municipalities.columns"
   ]
  },
  {
   "cell_type": "code",
   "execution_count": null,
   "metadata": {
    "id": "tEQ2NWKuLn6p"
   },
   "outputs": [],
   "source": [
    "# new names\n",
    "[name+'_aereal' for name in areal_municipalities.columns]"
   ]
  },
  {
   "cell_type": "code",
   "execution_count": null,
   "metadata": {
    "id": "86PK0y7NLn6p"
   },
   "outputs": [],
   "source": [
    "# dict of renaming\n",
    "old=areal_municipalities.columns\n",
    "new=[name+'_aereal' for name in areal_municipalities.columns]\n",
    "fromOldToNew_dict={o:n for o,n in zip(old,new)}\n",
    "fromOldToNew_dict\n"
   ]
  },
  {
   "cell_type": "code",
   "execution_count": null,
   "metadata": {
    "id": "w9kctRhfLn6p"
   },
   "outputs": [],
   "source": [
    "# renaming\n",
    "areal_municipalities.rename(columns=fromOldToNew_dict,inplace=True)"
   ]
  },
  {
   "cell_type": "markdown",
   "metadata": {
    "id": "g4sa-6F-Ln6p"
   },
   "source": [
    "Now, we can simply concatenate both:"
   ]
  },
  {
   "cell_type": "code",
   "execution_count": null,
   "metadata": {
    "id": "Zc6vKDrpLn6p"
   },
   "outputs": [],
   "source": [
    "toConcatenate=[municipalitiesMA_target, areal_municipalities]\n",
    "\n",
    "municipalitiesMA_interpolated=pd.concat(toConcatenate,axis=1)\n",
    "\n",
    "# here it is\n",
    "municipalitiesMA_interpolated\n"
   ]
  },
  {
   "cell_type": "markdown",
   "metadata": {
    "id": "lXulGWmMLn6q"
   },
   "source": [
    "### Plotting comparatively\n",
    "\n",
    "Let's see the aggravated assault results comparatively, let's start with crime counts:"
   ]
  },
  {
   "cell_type": "code",
   "execution_count": null,
   "metadata": {
    "id": "UTElr6pHLn6q"
   },
   "outputs": [],
   "source": [
    "import matplotlib.pyplot as plt\n",
    "\n",
    "# Find the absolute minimum and maximum rate across both datasets\n",
    "count_min = min(countiesMA_source['AG_ASSLT'].min(), municipalitiesMA_interpolated['AG_ASSLT_aereal'].min())\n",
    "count_max = max(countiesMA_source['AG_ASSLT'].max(), municipalitiesMA_interpolated['AG_ASSLT_aereal'].max())\n",
    "\n",
    "# let's create a dict with common parameters\n",
    "dictParams=dict(linewidth=0.8,legend_kwds={'label': \"Crime count\"},\n",
    "                cmap='viridis',\n",
    "                vmin=count_min,              # Ensures the color scale starts at the global min\n",
    "                vmax=count_max)              # Ensures the color scale ends at the global max\n",
    "\n",
    "fig, axes = plt.subplots(1, 2, figsize=(15, 8))\n",
    "\n",
    "\n",
    "# --- MAP 1\n",
    "countiesMA_source.plot(column='AG_ASSLT',ax=axes[0],**dictParams,legend=False)\n",
    "axes[0].set_title('AG_ASSLT (original)', fontsize=14)\n",
    "axes[0].set_axis_off()\n",
    "\n",
    "\n",
    "# --- MAP 2\n",
    "municipalitiesMA_interpolated.plot(column='AG_ASSLT_aereal',ax=axes[1],**dictParams,legend=True)\n",
    "axes[1].set_title('AG_ASSLT (interpolated to Municipalities)', fontsize=14)\n",
    "axes[1].set_axis_off()\n",
    "\n",
    "plt.tight_layout()\n",
    "plt.show()"
   ]
  },
  {
   "cell_type": "markdown",
   "metadata": {
    "id": "nH0HNYoRLn6q"
   },
   "source": [
    "Now, crime rates:"
   ]
  },
  {
   "cell_type": "code",
   "execution_count": null,
   "metadata": {
    "id": "iYdteAnwLn6q"
   },
   "outputs": [],
   "source": [
    "rate_min = min(countiesMA_source['AG_ASSLT_rate10K'].min(), municipalitiesMA_interpolated['AG_ASSLT_rate10K_aereal'].min())\n",
    "rate_max = max(countiesMA_source['AG_ASSLT_rate10K'].max(), municipalitiesMA_interpolated['AG_ASSLT_rate10K_aereal'].max())\n",
    "\n",
    "dictParams=dict(linewidth=0.8,legend_kwds={'label': \"Crimes rate (per 10k)\"},\n",
    "                vmin=rate_min, vmax=rate_max)\n",
    "\n",
    "fig, axes = plt.subplots(1, 2, figsize=(15, 8))\n",
    "\n",
    "# --- MAP 1:\n",
    "countiesMA_source.plot(column='AG_ASSLT_rate10K',ax=axes[0],**dictParams,legend=False)\n",
    "axes[0].set_title('AG_ASSLT_rate10K (original)', fontsize=14)\n",
    "axes[0].set_axis_off()\n",
    "\n",
    "\n",
    "# --- MAP 2:\n",
    "municipalitiesMA_interpolated.plot(column='AG_ASSLT_rate10K_aereal',ax=axes[1],**dictParams,legend=True)\n",
    "axes[1].set_title('AG_ASSLT_rate10K (interpolated to Municipalities)', fontsize=14)\n",
    "axes[1].set_axis_off()\n",
    "\n",
    "plt.tight_layout()\n",
    "plt.show()"
   ]
  },
  {
   "cell_type": "markdown",
   "metadata": {
    "id": "VTJAp6B5Ln6q"
   },
   "source": [
    "## Option 2: Dasymetric Interpolation\n",
    "\n",
    "Dasymetric interpolation is a smarter way to transfer data from large areas to smaller ones by using auxiliary data to guide the process. Instead of assuming data is spread evenly (like simple Areal Interpolation), Dasymetric methods assume the data follows a pattern dictated by a secondary map.\n",
    "\n",
    "The term \"dasymetric\" comes from Greek roots meaning \"dense measurement\" or \"distribution measurement.\"\n",
    "\n",
    "How It Works?\n",
    "\n",
    "Here we're moving a county's crime  to municipal aereas.\n",
    "\n",
    "Auxiliary Map: You use a secondary, fine-grained map—like land-use pixels (forest, urban, water, etc.)—as the guide.\n",
    "\n",
    "Weighted Transfer: Instead of dividing the crime based on the city's total area, you divide it based on the area of \"relevant\" land use within that block. In our case, the more 'urban' area.\n",
    "\n",
    "If 90% of a county's crime is shown by a model to occur on urban land, the model only places crime on the urban pixels within the city, leaving forest and water areas with a zero crime estimate.\n",
    "\n",
    "Why It's Better?\n",
    "\n",
    "Dasymetric interpolation creates a much denser and more accurate map because it respects the underlying geographical reality. The resulting small areas aren't just averages; they are informed predictions based on where the activity is known to occur."
   ]
  },
  {
   "cell_type": "markdown",
   "metadata": {
    "id": "e0qVSaDMLn6r"
   },
   "source": [
    "The auxiliary map with pixel information is a **raster** map. We will a raster that comes from [GHSL - Global Human Settlement Layer](https://human-settlement.emergency.copernicus.eu/download.php?ds=smod). As you read the documentation they will tell the values the cells represent.\n",
    "\n",
    "- Class 30: “Urban Centre grid cell”\n",
    "- Class 23: “Dense Urban Cluster grid cell”\n",
    "- Class 22: “Semi-dense Urban Cluster grid cell”\n",
    "- Class 21: “Suburban or per-urban grid cell”\n",
    "- Class 13: “Rural cluster grid cell”\n",
    "- Class 12: “Low Density Rural grid cell”\n",
    "- Class 11: “Very low density rural grid cell”\n",
    "- Class 10: “Water grid cell”(not populated nor built).\n",
    "\n",
    "For crime distribution, we'll focus on populated urban areas (classes 21-30) since crimes predominantly occur where people live and work, while excluding rural and water areas."
   ]
  },
  {
   "cell_type": "code",
   "execution_count": null,
   "metadata": {
    "id": "3uLVPdfOBnvF"
   },
   "outputs": [],
   "source": [
    "from tobler.dasymetric import masked_area_interpolate as dasy\n",
    "\n",
    "rasterPath=mainGitHub+\"WORLD/raster/GHS_SMOD_E2030_GLOBE_R2023A_54009_1000_V2_0.tif\"\n",
    "populatedCodes=[21,22,23,30]\n",
    "\n",
    "\n",
    "dasymetric_municipalities=dasy(\n",
    "    source_df=countiesMA_source,\n",
    "    target_df=municipalitiesMA_target,\n",
    "    raster=rasterPath,\n",
    "    pixel_values=populatedCodes,\n",
    "    extensive_variables=myExtensive,\n",
    "    intensive_variables=myIntensive\n",
    ")"
   ]
  },
  {
   "cell_type": "markdown",
   "metadata": {
    "id": "AZfLtlwpLn6r"
   },
   "source": [
    "Here we are:"
   ]
  },
  {
   "cell_type": "code",
   "execution_count": null,
   "metadata": {
    "id": "3_O6k7fYLn6s"
   },
   "outputs": [],
   "source": [
    "dasymetric_municipalities"
   ]
  },
  {
   "cell_type": "markdown",
   "metadata": {
    "id": "Hjq8qIprLn6s"
   },
   "source": [
    "### Concatenating Dasymetric interpolation to Target\n",
    "\n",
    "Given we have the same structure, let's follow the same steps to **concatenate** this results into **municipalitiesMA_interpolated**:"
   ]
  },
  {
   "cell_type": "code",
   "execution_count": null,
   "metadata": {
    "id": "CTnrbHFsLn6s"
   },
   "outputs": [],
   "source": [
    "# bye column\n",
    "dasymetric_municipalities.drop(columns='geometry',inplace=True)\n",
    "\n",
    "# renaming\n",
    "old=dasymetric_municipalities.columns\n",
    "new=[name+'_dasy' for name in dasymetric_municipalities.columns]\n",
    "fromOldToNew_dict={o:n for o,n in zip(old,new)}\n",
    "dasymetric_municipalities.rename(columns=fromOldToNew_dict,inplace=True)\n",
    "\n",
    "# concatenating\n",
    "toConcatenate=[municipalitiesMA_interpolated, dasymetric_municipalities] #notice this\n",
    "\n",
    "# self concat\n",
    "municipalitiesMA_interpolated=pd.concat(toConcatenate,axis=1)\n",
    "\n",
    "# here it is\n",
    "municipalitiesMA_interpolated"
   ]
  },
  {
   "cell_type": "markdown",
   "metadata": {
    "id": "BXFHXJw_Ln6s"
   },
   "source": [
    "### Plotting comparatively\n",
    "\n",
    "Let's see the burglary results comparatively, let's start with crime counts:"
   ]
  },
  {
   "cell_type": "code",
   "execution_count": null,
   "metadata": {
    "id": "1LqdGOp3Ln6s"
   },
   "outputs": [],
   "source": [
    "# common min and max\n",
    "count_min = min(countiesMA_source['BURGLRY'].min(),\n",
    "                municipalitiesMA_interpolated['BURGLRY_aereal'].min(),\n",
    "                municipalitiesMA_interpolated['BURGLRY_dasy'].min()\n",
    "               )\n",
    "count_max = max(countiesMA_source['AG_ASSLT'].max(),\n",
    "                municipalitiesMA_interpolated['AG_ASSLT_aereal'].max(),\n",
    "                municipalitiesMA_interpolated['BURGLRY_dasy'].max()\n",
    "               )\n",
    "\n",
    "# dict with common parameters\n",
    "dictParams=dict(linewidth=0.8,    legend_kwds={'label': \"Crime count\",'orientation': \"horizontal\"},\n",
    "                cmap='viridis',  vmin=count_min,  vmax=count_max)\n",
    "\n",
    "fig, axes = plt.subplots(1, 3, figsize=(15, 8))\n",
    "\n",
    "\n",
    "# --- MAP 1\n",
    "countiesMA_source.plot(column='BURGLRY',ax=axes[0],**dictParams,legend=False)\n",
    "axes[0].set_title('BURGLARY (original)', fontsize=14)\n",
    "axes[0].set_axis_off()\n",
    "\n",
    "\n",
    "# --- MAP 2\n",
    "municipalitiesMA_interpolated.plot(column='BURGLRY_aereal',ax=axes[1],**dictParams,legend=True)\n",
    "axes[1].set_title('BURGLARY (interpolated to Municipalities)', fontsize=14)\n",
    "axes[1].set_axis_off()\n",
    "\n",
    "\n",
    "# --- MAP 3\n",
    "municipalitiesMA_interpolated.plot(column='BURGLRY_dasy',ax=axes[2],**dictParams,legend=False)\n",
    "axes[2].set_title('BURGLARY (interpolated (Dasymetric) to Municipalities)', fontsize=14)\n",
    "axes[2].set_axis_off()\n",
    "\n",
    "plt.tight_layout()\n",
    "plt.show()"
   ]
  },
  {
   "cell_type": "code",
   "execution_count": null,
   "metadata": {
    "id": "mtsJmXXuLn6t"
   },
   "outputs": [],
   "source": [
    "# common min and max\n",
    "count_min = min(countiesMA_source['BURGLRY_rate10K'].min(),\n",
    "                municipalitiesMA_interpolated['BURGLRY_rate10K_aereal'].min(),\n",
    "                municipalitiesMA_interpolated['BURGLRY_rate10K_dasy'].min()\n",
    "               )\n",
    "count_max = max(countiesMA_source['BURGLRY_rate10K'].max(),\n",
    "                municipalitiesMA_interpolated['BURGLRY_rate10K_aereal'].max(),\n",
    "                municipalitiesMA_interpolated['BURGLRY_rate10K_dasy'].max()\n",
    "               )\n",
    "\n",
    "# dict with common parameters\n",
    "dictParams=dict(linewidth=0.8, legend_kwds={'label': \"Crime rate (10k)\",'orientation': \"horizontal\"},\n",
    "                cmap='viridis', vmin=count_min,vmax=count_max)\n",
    "\n",
    "fig, axes = plt.subplots(1, 3, figsize=(15, 8))\n",
    "\n",
    "\n",
    "# --- MAP 1\n",
    "countiesMA_source.plot(column='BURGLRY_rate10K',ax=axes[0],legend=False,**dictParams)\n",
    "axes[0].set_title('BURGLARY Rate \\n(original)', fontsize=14)\n",
    "axes[0].set_axis_off()\n",
    "\n",
    "\n",
    "# --- MAP 2\n",
    "municipalitiesMA_interpolated.plot(column='BURGLRY_rate10K_aereal',ax=axes[1],legend=True,**dictParams)\n",
    "axes[1].set_title('BURGLRY Rate \\n(interpolated to Municipalities)', fontsize=14)\n",
    "axes[1].set_axis_off()\n",
    "\n",
    "\n",
    "# --- MAP 3\n",
    "municipalitiesMA_interpolated.plot(column='BURGLRY_rate10K_dasy',ax=axes[2],legend=False,**dictParams)\n",
    "axes[2].set_title('BURGLRY Rate \\n(interpolated (Dasymetric) to Municipalities)', fontsize=14)\n",
    "axes[2].set_axis_off()\n",
    "\n",
    "plt.tight_layout()\n",
    "plt.show()"
   ]
  },
  {
   "cell_type": "markdown",
   "metadata": {
    "id": "Ew1Xbh_ZLn6t"
   },
   "source": [
    "## Option 3: Dasymetric using H3 grid\n",
    "\n",
    "Dasymetric Interpolation using an H3 Grid is the method for getting the most precise, street-level view of your data. It takes the Smart Dasymetric approach (Option 2) and applies it to very tiny, uniform target areas.\n",
    "\n",
    "How It Works?\n",
    "\n",
    "**Tiny Targets**: Instead of using administrative boundaries like cities or blocks, you use a global grid of perfect hexagons called H3 cells . These hexagons are the same size everywhere and can be very small (like a few city blocks).\n",
    "\n",
    "**Same Smart Model**: You take the same spatial weights (the land-use influence: \"urban land attracts this much crime\") determined by your Dasymetric model.\n",
    "\n",
    "**Maximum Detail**: You apply those weights to the land-use pixels found inside each tiny H3 hexagon.\n",
    "\n",
    "This tells you the predicted crime rate for that specific hexagon.\n",
    "\n",
    "Why It's the Best for Decisions?\n",
    "\n",
    "The result is an extremely granular map that shows you exactly where the rate is high or low, block-by-block. This level of detail is perfect for practical applications like evaluating the risk for a single property address, making it the ideal tool for your final buying/renting decision.\n",
    "\n",
    "Let's inspect the smallest municipality area:"
   ]
  },
  {
   "cell_type": "code",
   "execution_count": null,
   "metadata": {
    "id": "j3ckfXV9Ln6t"
   },
   "outputs": [],
   "source": [
    "municipalitiesMA_target.area.min()/ 1000000"
   ]
  },
  {
   "cell_type": "markdown",
   "metadata": {
    "id": "Unn9lUzfLn6t"
   },
   "source": [
    "The smallest municipality is a little bigger than 3 km2, notice some resolutions offered by H3 grid:"
   ]
  },
  {
   "cell_type": "markdown",
   "metadata": {
    "id": "dQbSsnOGLn6u"
   },
   "source": [
    "### Resolution Comparison\n",
    "\n",
    "\n",
    "| H3 Resolution | Approximate Area per Hexagon |\n",
    "|---------------|------------------------------|\n",
    "| 10            | ∼0.008 km²                   |\n",
    "| 9             | ∼0.11 km²                    |\n",
    "| 8             | ∼0.73 km²                    |"
   ]
  },
  {
   "cell_type": "markdown",
   "metadata": {
    "id": "rgiPm7VXLn6u"
   },
   "source": [
    "SO, the smallees of our municipalities will be represented by:"
   ]
  },
  {
   "cell_type": "code",
   "execution_count": null,
   "metadata": {
    "id": "dm73AEXELn6u"
   },
   "outputs": [],
   "source": [
    "(municipalitiesMA_target.area.min()/ 1000000)/0.73"
   ]
  },
  {
   "cell_type": "markdown",
   "metadata": {
    "id": "7O6O77AILn6u"
   },
   "source": [
    "Let's creta a **MA_grid8_target**. Remember that H3 requires geographic coordinates (EPSG:4326) to create the global grid, so we temporarily convert our data, create the hexagons, then convert back to our working projection"
   ]
  },
  {
   "cell_type": "code",
   "execution_count": null,
   "metadata": {
    "id": "wua6N8e0Ln6u"
   },
   "outputs": [],
   "source": [
    "from tobler.util import h3fy as h3\n",
    "\n",
    "MA_grid8_target=h3(municipalitiesMA_target.to_crs(4326), resolution=8).to_crs(municipalitiesMA_target.crs)"
   ]
  },
  {
   "cell_type": "markdown",
   "metadata": {
    "id": "8hU0kY3lLn6v"
   },
   "source": [
    "He have this:"
   ]
  },
  {
   "cell_type": "code",
   "execution_count": null,
   "metadata": {
    "id": "LIrWroSPLn6v"
   },
   "outputs": [],
   "source": [
    "MA_grid8_target"
   ]
  },
  {
   "cell_type": "markdown",
   "metadata": {
    "id": "ChauuVzMLn6v"
   },
   "source": [
    "A little change to previous model, no more municipality as target:"
   ]
  },
  {
   "cell_type": "code",
   "execution_count": null,
   "metadata": {
    "id": "UYlLOD6XLn6v"
   },
   "outputs": [],
   "source": [
    "dasymetric_h3_grid8=dasy(\n",
    "    source_df=countiesMA_source,\n",
    "    target_df=MA_grid8_target,\n",
    "    raster=rasterPath,\n",
    "    pixel_values=populatedCodes,\n",
    "    extensive_variables=myExtensive,\n",
    "    intensive_variables=myIntensive\n",
    ")"
   ]
  },
  {
   "cell_type": "code",
   "execution_count": null,
   "metadata": {
    "id": "ZrfsaZncLn6v"
   },
   "outputs": [],
   "source": [
    "dasymetric_h3_grid8.columns"
   ]
  },
  {
   "cell_type": "markdown",
   "metadata": {
    "id": "I5XPi7s2Ln6w"
   },
   "source": [
    "We can not concatenate this results as before, they do not match the municipality boundaries:"
   ]
  },
  {
   "cell_type": "code",
   "execution_count": null,
   "metadata": {
    "id": "p_avtOl-Ln6w"
   },
   "outputs": [],
   "source": [
    "# COMMON MIN AND MAX ACROSS ALL THREE DATASETS\n",
    "# We now use the rate from the H3 grid instead of the Aereal rate column.\n",
    "count_min = min(\n",
    "    countiesMA_source['BURGLRY_rate10K'].min(),\n",
    "    municipalitiesMA_interpolated['BURGLRY_rate10K_dasy'].min(),\n",
    "    dasymetric_h3_grid8['BURGLRY_rate10K'].min() # Using the new H3 rate column\n",
    ")\n",
    "count_max = max(\n",
    "    countiesMA_source['BURGLRY_rate10K'].max(),\n",
    "    municipalitiesMA_interpolated['BURGLRY_rate10K_dasy'].max(),\n",
    "    dasymetric_h3_grid8['BURGLRY_rate10K'].max() # Using the new H3 rate column\n",
    ")\n",
    "\n",
    "# DICT WITH COMMON PARAMETERS\n",
    "dictParams=dict(linewidth=0.8, legend_kwds={'label': \"Crime rate (10k)\",'orientation': \"horizontal\"},\n",
    "                cmap='inferno_r', # another color map\n",
    "                vmin=count_min,vmax=count_max)\n",
    "\n",
    "\n",
    "# 1 row, 3 columns\n",
    "fig, axes = plt.subplots(1, 3, figsize=(18, 8))\n",
    "\n",
    "# --- MAP 1\n",
    "countiesMA_source.plot(column='BURGLRY_rate10K',ax=axes[0],**dictParams,legend=False)\n",
    "axes[0].set_title('1. BURGLARY Rate \\n(Original County Rate)', fontsize=14)\n",
    "axes[0].set_axis_off()\n",
    "\n",
    "# --- MAP 2\n",
    "municipalitiesMA_interpolated.plot(column='BURGLRY_rate10K_dasy',ax=axes[1],**dictParams,legend=True)\n",
    "axes[1].set_title('2. BURGLARY Rate \\n(Dasymetric to Municipalities)', fontsize=14)\n",
    "axes[1].set_axis_off()\n",
    "\n",
    "# --- MAP 3\n",
    "# This replaces the Areal map and shows the final, highest-resolution result.\n",
    "dasymetric_h3_grid8.plot(column='BURGLRY_rate10K', ax=axes[2],**dictParams,legend=False)\n",
    "axes[2].set_title('3. BURGLARY Rate\\n(Dasymetric to H3 Grid R8)', fontsize=14)\n",
    "axes[2].set_axis_off()\n",
    "\n",
    "plt.tight_layout()\n",
    "plt.show()"
   ]
  },
  {
   "cell_type": "markdown",
   "metadata": {
    "id": "RE1hqouvLn6w"
   },
   "source": [
    "## So, what decision should I make?\n",
    "\n",
    "Let's explore the results statistically:"
   ]
  },
  {
   "cell_type": "code",
   "execution_count": null,
   "metadata": {
    "id": "wfDf1qRCLn6w"
   },
   "outputs": [],
   "source": [
    "dasymetric_h3_grid8[['BURGLRY_rate10K','AG_ASSLT_rate10K']].describe()"
   ]
  },
  {
   "cell_type": "markdown",
   "metadata": {
    "id": "UJEfZZ7zLn6x"
   },
   "source": [
    "Given these values, we should bin these columns. Let's use Fisher-Jenks (also called \"natural breaks\") for this skewed crime data because:\n",
    "\n",
    "- Right-skewed distribution: Most hexagons have zero/low crime, few have very high values\n",
    "\n",
    "- Natural clustering: Finds inherent groupings in the data rather than arbitrary equal intervals\n",
    "\n",
    "- Optimal for skewed data: Minimizes variance within classes, maximizes between classes\n",
    "\n",
    "- Preserves patterns: Better reveals the actual risk clusters in our spatial data\n",
    "\n",
    "Unlike quantiles (which would force equal counts) or equal intervals (which would misrepresent the distribution), Fisher-Jenks adapts to our data's natural structure."
   ]
  },
  {
   "cell_type": "code",
   "execution_count": null,
   "metadata": {
    "id": "F8heTHDALn6x"
   },
   "outputs": [],
   "source": [
    "import mapclassify\n",
    "import numpy as np\n",
    "\n",
    "np.random.seed(12345) # so we all get the same results!\n",
    "\n",
    "K=3\n",
    "theVar1=dasymetric_h3_grid8['BURGLRY_rate10K']\n",
    "\n",
    "# based on similarity, good for skewed data\n",
    "fj_burg = mapclassify.FisherJenks(theVar1, k=K)\n",
    "pd.Series(fj_burg.yb).value_counts().sort_index()"
   ]
  },
  {
   "cell_type": "code",
   "execution_count": null,
   "metadata": {
    "id": "RcC4yY8aLn6x"
   },
   "outputs": [],
   "source": [
    "theVar2=dasymetric_h3_grid8['AG_ASSLT_rate10K']\n",
    "\n",
    "# based on similarity, good for skewed data\n",
    "fj_asslt = mapclassify.FisherJenks(theVar2, k=K)\n",
    "pd.Series(fj_asslt.yb).value_counts().sort_index()"
   ]
  },
  {
   "cell_type": "markdown",
   "metadata": {
    "id": "lkyVwUx-Ln6x"
   },
   "source": [
    "Notice that the bin '0' represents the hexagons with ZERO value:"
   ]
  },
  {
   "cell_type": "code",
   "execution_count": null,
   "metadata": {
    "id": "Jz293yUiLn6x"
   },
   "outputs": [],
   "source": [
    "(dasymetric_h3_grid8['BURGLRY_rate10K']==0).sum(),(dasymetric_h3_grid8['AG_ASSLT_rate10K']==0).sum()"
   ]
  },
  {
   "cell_type": "markdown",
   "metadata": {
    "id": "ZL9o4ssPLn6y"
   },
   "source": [
    "Then, we could rename the values computed:"
   ]
  },
  {
   "cell_type": "code",
   "execution_count": null,
   "metadata": {
    "id": "5R2IrkWILn6y"
   },
   "outputs": [],
   "source": [
    "# renaming\n",
    "newLabelsForLevels={0:\"0_NoRisk\", 1:\"1_MediumRisk\", 2:\"2_HighRisk\"}\n",
    "\n",
    "\n",
    "dasymetric_h3_grid8['BURGLRY_rate10K_bin']=fj_burg.yb\n",
    "dasymetric_h3_grid8.replace({'BURGLRY_rate10K_bin':newLabelsForLevels},inplace=True)\n",
    "\n",
    "dasymetric_h3_grid8['AG_ASSLT_rate10K_bin']=fj_asslt.yb\n",
    "dasymetric_h3_grid8.replace({'AG_ASSLT_rate10K_bin':newLabelsForLevels},inplace=True)\n"
   ]
  },
  {
   "cell_type": "markdown",
   "metadata": {
    "id": "ar1BULVPLn6y"
   },
   "source": [
    "This is the result:"
   ]
  },
  {
   "cell_type": "code",
   "execution_count": null,
   "metadata": {
    "id": "wTHM0frELn6y"
   },
   "outputs": [],
   "source": [
    "dasymetric_h3_grid8"
   ]
  },
  {
   "cell_type": "markdown",
   "metadata": {
    "id": "y_Kp3k0pLn6y"
   },
   "source": [
    "This is the location address, here we geocode:"
   ]
  },
  {
   "cell_type": "code",
   "execution_count": null,
   "metadata": {
    "id": "Ik09gfYfLn6z"
   },
   "outputs": [],
   "source": [
    "from geopy.geocoders import Nominatim\n",
    "from shapely.geometry import Point\n",
    "\n",
    "EstateOnSale='82 Sunset Dr, Taunton, MA 02780'\n",
    "\n",
    "geolocator = Nominatim(user_agent=\"theGeocoder\")\n",
    "\n",
    "EstateOnSale_Address = geolocator.geocode(EstateOnSale)\n",
    "\n",
    "EstateOnSale_Address_gdf4326 = gpd.GeoDataFrame(\n",
    "    {'address': [EstateOnSale_Address.address]},\n",
    "    geometry=[Point(EstateOnSale_Address.longitude, EstateOnSale_Address.latitude)],\n",
    "    crs=\"EPSG:4326\" # because of lon/lat\n",
    ")\n",
    "\n",
    "# reprojecting\n",
    "EstateOnSale_Address_gdf = EstateOnSale_Address_gdf4326.to_crs(countiesMA.crs)\n",
    "\n",
    "# here it is\n",
    "EstateOnSale_Address_gdf"
   ]
  },
  {
   "cell_type": "markdown",
   "metadata": {
    "id": "HI4wZVe8Ln6z"
   },
   "source": [
    "Let's plot this result:"
   ]
  },
  {
   "cell_type": "code",
   "execution_count": null,
   "metadata": {
    "id": "olZR3QeULn6z"
   },
   "outputs": [],
   "source": [
    "\n",
    "# DICT WITH COMMON PARAMETERS\n",
    "dictParams=dict(linewidth=0.8, cmap='inferno_r',categorical=True,figsize=(10,10))\n",
    "\n",
    "\n",
    "base=dasymetric_h3_grid8.plot(column='BURGLRY_rate10K_bin', **dictParams,legend=True)\n",
    "EstateOnSale_Address_gdf.plot(color='red',ax=base)"
   ]
  },
  {
   "cell_type": "code",
   "execution_count": null,
   "metadata": {
    "id": "Np6bvW4bLn6z"
   },
   "outputs": [],
   "source": [
    "# DICT WITH COMMON PARAMETERS\n",
    "dictParams=dict(linewidth=0.8, cmap='inferno_r',categorical=True,figsize=(10,10))\n",
    "\n",
    "\n",
    "base=dasymetric_h3_grid8.plot(column='AG_ASSLT_rate10K_bin', **dictParams,legend=True)\n",
    "EstateOnSale_Address_gdf.plot(color='red',ax=base)"
   ]
  },
  {
   "cell_type": "markdown",
   "metadata": {
    "id": "YoSk23vQLn6z"
   },
   "source": [
    "You can see more details, that tell us not to buy!"
   ]
  },
  {
   "cell_type": "code",
   "execution_count": null,
   "metadata": {
    "id": "npvCWkxNLn60"
   },
   "outputs": [],
   "source": [
    "EstateOnSale_Address_gdf.sjoin(\n",
    "    dasymetric_h3_grid8,\n",
    "    how=\"left\",\n",
    "    predicate=\"within\"\n",
    ")"
   ]
  },
  {
   "cell_type": "markdown",
   "metadata": {
    "id": "ya6tIevMLn60"
   },
   "source": [
    "______\n",
    "\n",
    "[BACK TO MAIN MENU](https://dacss-spatial.github.io/GDF_OPS_applications/)"
   ]
  },
  {
   "cell_type": "code",
   "execution_count": null,
   "metadata": {
    "id": "HXtkqATQLn60"
   },
   "outputs": [],
   "source": []
  }
 ],
 "metadata": {
  "colab": {
   "provenance": []
  },
  "kernelspec": {
   "display_name": "geo_env",
   "language": "python",
   "name": "geo_env"
  },
  "language_info": {
   "codemirror_mode": {
    "name": "ipython",
    "version": 3
   },
   "file_extension": ".py",
   "mimetype": "text/x-python",
   "name": "python",
   "nbconvert_exporter": "python",
   "pygments_lexer": "ipython3",
   "version": "3.13.5"
  }
 },
 "nbformat": 4,
 "nbformat_minor": 4
}
