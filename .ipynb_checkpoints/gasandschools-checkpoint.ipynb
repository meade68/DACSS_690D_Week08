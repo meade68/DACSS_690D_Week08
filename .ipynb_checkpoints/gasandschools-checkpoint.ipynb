{
  "cells": [
    {
      "cell_type": "markdown",
      "id": "14x75mB7VTP9",
      "metadata": {
        "id": "14x75mB7VTP9"
      },
      "source": [
        "<center><img src=\"https://github.com/DACSS-Spatial/data_forSpatial/raw/main/logo.png\" width=\"700\"></center>\n",
        "\n",
        "<a target=\"_blank\" href=\"https://colab.research.google.com/github/DACSS-Spatial/GDF_OPS_applications/blob/main/gasandschools.ipynb\">\n",
        "  <img src=\"https://colab.research.google.com/assets/colab-badge.svg\" alt=\"Open In Colab\"/>\n",
        "</a>\n",
        "\n",
        "\n",
        "# Moving Gas Stations away from Schools in Boston, MA"
      ]
    },
    {
      "cell_type": "markdown",
      "id": "-SkOsVNAVdt9",
      "metadata": {
        "id": "-SkOsVNAVdt9"
      },
      "source": [
        "# Getting ready"
      ]
    },
    {
      "cell_type": "markdown",
      "id": "_moGLySHLoW6",
      "metadata": {
        "id": "_moGLySHLoW6"
      },
      "source": [
        "## Installations needed"
      ]
    },
    {
      "cell_type": "code",
      "execution_count": null,
      "id": "ECBiEnxF1yha",
      "metadata": {
        "id": "ECBiEnxF1yha"
      },
      "outputs": [],
      "source": [
        "# !pip install osmnx mapclassify"
      ]
    },
    {
      "cell_type": "markdown",
      "id": "3jdI8EJ4Lt5N",
      "metadata": {
        "id": "3jdI8EJ4Lt5N"
      },
      "source": [
        "## Data needed"
      ]
    },
    {
      "cell_type": "markdown",
      "id": "mpmziedeLzXa",
      "metadata": {
        "id": "mpmziedeLzXa"
      },
      "source": [
        "### Official data preprocessing"
      ]
    },
    {
      "cell_type": "markdown",
      "id": "jMNZ8WJEp7Es",
      "metadata": {
        "id": "jMNZ8WJEp7Es"
      },
      "source": [
        "We need the boston map. As we are going to analize schools and gas stations we must omit the water bodies. A good option is:\n",
        "\n",
        "\n",
        "*   https://www.mass.gov/info-details/massgis-data-municipalities\n",
        "\n",
        "You will select the shapefile for Boston from there. The file returned will be a zip, which I have saved on GitHub from where I read it:\n",
        "\n"
      ]
    },
    {
      "cell_type": "code",
      "execution_count": null,
      "id": "01bbf5e2-3dbd-4288-b818-ec897da7e6f9",
      "metadata": {
        "id": "01bbf5e2-3dbd-4288-b818-ec897da7e6f9"
      },
      "outputs": [],
      "source": [
        "import geopandas as gpd\n",
        "\n",
        "filez=\"https://github.com/DACSS-Spatial/data_forSpatial/raw/refs/heads/main/BOSTON/GISDATA.TOWNSSURVEY_POLYM.zip\"\n",
        "boston=gpd.read_file(filez)\n",
        "boston.info()"
      ]
    },
    {
      "cell_type": "markdown",
      "id": "9uixXPxeYxOF",
      "metadata": {
        "id": "9uixXPxeYxOF"
      },
      "source": [
        "As you see, it is just one geometry:"
      ]
    },
    {
      "cell_type": "code",
      "execution_count": null,
      "id": "90fd3f18-bc83-4a36-a26d-a6eeb05936a4",
      "metadata": {
        "id": "90fd3f18-bc83-4a36-a26d-a6eeb05936a4"
      },
      "outputs": [],
      "source": [
        "boston"
      ]
    },
    {
      "cell_type": "markdown",
      "id": "ODQfE2nGY780",
      "metadata": {
        "id": "ODQfE2nGY780"
      },
      "source": [
        "The map we have has come projected:"
      ]
    },
    {
      "cell_type": "code",
      "execution_count": null,
      "id": "39247kBw4LcY",
      "metadata": {
        "id": "39247kBw4LcY"
      },
      "outputs": [],
      "source": [
        "boston.crs"
      ]
    },
    {
      "cell_type": "markdown",
      "id": "PjxxLJlaMN5B",
      "metadata": {
        "id": "PjxxLJlaMN5B"
      },
      "source": [
        "### Crowdsourced data pre processing"
      ]
    },
    {
      "cell_type": "markdown",
      "id": "LxjR2LyZZHbm",
      "metadata": {
        "id": "LxjR2LyZZHbm"
      },
      "source": [
        "Now we need the schools and gas stations. Let's become familiar with OpenStreet Maps [API for Python](https://osmnx.readthedocs.io/en/stable/), which for our case would be very useful.\n",
        "\n",
        "You can get the gas stations from Boston like this:\n"
      ]
    },
    {
      "cell_type": "code",
      "execution_count": null,
      "id": "f82c2430-e244-4afa-bdb2-e589d4814319",
      "metadata": {
        "id": "f82c2430-e244-4afa-bdb2-e589d4814319"
      },
      "outputs": [],
      "source": [
        "# Get gas stations in Boston\n",
        "import osmnx as ox\n",
        "\n",
        "stations = ox.features_from_place(\"Boston, Massachusetts, USA\",\n",
        "                                tags={'amenity': 'fuel'})"
      ]
    },
    {
      "cell_type": "markdown",
      "id": "PUPMIQdmZ4cc",
      "metadata": {
        "id": "PUPMIQdmZ4cc"
      },
      "source": [
        "Notice we are getting several gas stations, already as a GDF:"
      ]
    },
    {
      "cell_type": "code",
      "execution_count": null,
      "id": "88da470b-7233-42cb-9185-2ccd848c9f3f",
      "metadata": {
        "id": "88da470b-7233-42cb-9185-2ccd848c9f3f"
      },
      "outputs": [],
      "source": [
        "stations.info()"
      ]
    },
    {
      "cell_type": "markdown",
      "id": "xGzPE4jha_Sq",
      "metadata": {
        "id": "xGzPE4jha_Sq"
      },
      "source": [
        "OSM gave you stations unprojected:"
      ]
    },
    {
      "cell_type": "code",
      "execution_count": null,
      "id": "qVpacV8vbD8C",
      "metadata": {
        "id": "qVpacV8vbD8C"
      },
      "outputs": [],
      "source": [
        "stations.crs"
      ]
    },
    {
      "cell_type": "markdown",
      "id": "qPAJrKrjaqPf",
      "metadata": {
        "id": "qPAJrKrjaqPf"
      },
      "source": [
        "Notice the multi-index:"
      ]
    },
    {
      "cell_type": "code",
      "execution_count": null,
      "id": "A5v4nsk6aN13",
      "metadata": {
        "id": "A5v4nsk6aN13"
      },
      "outputs": [],
      "source": [
        "stations"
      ]
    },
    {
      "cell_type": "markdown",
      "id": "kya3FJQ0bfkP",
      "metadata": {
        "id": "kya3FJQ0bfkP"
      },
      "source": [
        "In the multi index you see **nodes**, **relations**, and **ways**:"
      ]
    },
    {
      "cell_type": "code",
      "execution_count": null,
      "id": "7ace0e6f-0540-4de4-a294-e88a291553e0",
      "metadata": {
        "id": "7ace0e6f-0540-4de4-a294-e88a291553e0"
      },
      "outputs": [],
      "source": [
        "stations.index"
      ]
    },
    {
      "cell_type": "markdown",
      "id": "JJVKagmSbzwf",
      "metadata": {
        "id": "JJVKagmSbzwf"
      },
      "source": [
        "Some formatting may be needed at this stage:\n",
        "\n",
        "- This will put current indexes back into the data, and numbers will appear:"
      ]
    },
    {
      "cell_type": "code",
      "execution_count": null,
      "id": "ILJ_apvCFCtz",
      "metadata": {
        "id": "ILJ_apvCFCtz"
      },
      "outputs": [],
      "source": [
        "stations.reset_index(drop=False,inplace=True)\n",
        "stations.head()"
      ]
    },
    {
      "cell_type": "markdown",
      "id": "N8u2rhOJFJ4C",
      "metadata": {
        "id": "N8u2rhOJFJ4C"
      },
      "source": [
        "- Keep some columns:"
      ]
    },
    {
      "cell_type": "code",
      "execution_count": null,
      "id": "TUpnMeMFFNpS",
      "metadata": {
        "id": "TUpnMeMFFNpS"
      },
      "outputs": [],
      "source": [
        "colsToKeep=['element','name','geometry']\n",
        "fuelBoston=stations[colsToKeep].copy()"
      ]
    },
    {
      "cell_type": "markdown",
      "id": "Y20rD8-nFeJk",
      "metadata": {
        "id": "Y20rD8-nFeJk"
      },
      "source": [
        "- Reproject the data:"
      ]
    },
    {
      "cell_type": "code",
      "execution_count": null,
      "id": "PxEp61yoFhoY",
      "metadata": {
        "id": "PxEp61yoFhoY"
      },
      "outputs": [],
      "source": [
        "Boston_crs = \"EPSG:26986\"\n",
        "\n",
        "fuelBoston = fuelBoston.to_crs(Boston_crs)"
      ]
    },
    {
      "cell_type": "markdown",
      "id": "u6QFoEd9F3Ox",
      "metadata": {
        "id": "u6QFoEd9F3Ox"
      },
      "source": [
        "- Review:"
      ]
    },
    {
      "cell_type": "code",
      "execution_count": null,
      "id": "y_pInnxRF6B1",
      "metadata": {
        "id": "y_pInnxRF6B1"
      },
      "outputs": [],
      "source": [
        "fuelBoston.info()"
      ]
    },
    {
      "cell_type": "markdown",
      "id": "0P_0Q6IuF-zW",
      "metadata": {
        "id": "0P_0Q6IuF-zW"
      },
      "source": [
        "- From above, columns **name** of the gas station has missing values. We should rename those missing values:"
      ]
    },
    {
      "cell_type": "code",
      "execution_count": null,
      "id": "19FcVxUrGUE6",
      "metadata": {
        "id": "19FcVxUrGUE6"
      },
      "outputs": [],
      "source": [
        "fuelBoston.fillna({'name':'Unknown'},inplace=True)"
      ]
    },
    {
      "cell_type": "markdown",
      "id": "wmrfju-OGYMu",
      "metadata": {
        "id": "wmrfju-OGYMu"
      },
      "source": [
        "- We usually use the names as row index. But row index should not have duplicates. Since several 'names' are the same (_Unknown_), we have to create new names:"
      ]
    },
    {
      "cell_type": "code",
      "execution_count": null,
      "id": "KTw8BGNiI6Uw",
      "metadata": {
        "id": "KTw8BGNiI6Uw"
      },
      "outputs": [],
      "source": [
        "fuelBoston.index.astype(str)+\"_\"+fuelBoston.name"
      ]
    },
    {
      "cell_type": "markdown",
      "id": "GLWn49FXJBw9",
      "metadata": {
        "id": "GLWn49FXJBw9"
      },
      "source": [
        "Then,"
      ]
    },
    {
      "cell_type": "code",
      "execution_count": null,
      "id": "hGKk94AcJOnA",
      "metadata": {
        "id": "hGKk94AcJOnA"
      },
      "outputs": [],
      "source": [
        "fuelBoston['newname']=fuelBoston.index.astype(str)+\"_\"+fuelBoston.name\n",
        "fuelBoston.set_index('newname',inplace=True)\n",
        "fuelBoston.drop(columns=['name'],inplace=True)\n",
        "fuelBoston.head()"
      ]
    },
    {
      "cell_type": "markdown",
      "id": "OjfrINvCdJMI",
      "metadata": {
        "id": "OjfrINvCdJMI"
      },
      "source": [
        "See that **nodes** are points, **ways** are lines or simple shapes built from points, and **relations** are conceptual containers that group any of the other elements to represent complex features.\n",
        "\n",
        "Let me compare with the geometries available:\n"
      ]
    },
    {
      "cell_type": "code",
      "execution_count": null,
      "id": "UZRg9OHkWYt8",
      "metadata": {
        "id": "UZRg9OHkWYt8"
      },
      "outputs": [],
      "source": [
        "import pandas as pd\n",
        "\n",
        "pd.crosstab(fuelBoston.element,fuelBoston.geometry.geom_type, margins=True)\n"
      ]
    },
    {
      "cell_type": "markdown",
      "id": "y3uIeD_geQCJ",
      "metadata": {
        "id": "y3uIeD_geQCJ"
      },
      "source": [
        "This is the 'relation' we have:"
      ]
    },
    {
      "cell_type": "code",
      "execution_count": null,
      "id": "sBQE52MXK0Wq",
      "metadata": {
        "id": "sBQE52MXK0Wq"
      },
      "outputs": [],
      "source": [
        "#original data\n",
        "stations[stations.element=='relation']"
      ]
    },
    {
      "cell_type": "code",
      "execution_count": null,
      "id": "oZpZzRPoWkCD",
      "metadata": {
        "id": "oZpZzRPoWkCD"
      },
      "outputs": [],
      "source": [
        "fuelBoston[fuelBoston.element=='relation'].plot()"
      ]
    },
    {
      "cell_type": "markdown",
      "id": "SWz4La32eYrc",
      "metadata": {
        "id": "SWz4La32eYrc"
      },
      "source": [
        "Let me get the schools:"
      ]
    },
    {
      "cell_type": "code",
      "execution_count": null,
      "id": "H4DwnNl5Wy8r",
      "metadata": {
        "id": "H4DwnNl5Wy8r"
      },
      "outputs": [],
      "source": [
        "# Get schools in Boston\n",
        "schools = ox.features_from_place(\"Boston, Massachusetts, USA\",\n",
        "                                tags={'amenity': 'school'})\n",
        "schools.info()"
      ]
    },
    {
      "cell_type": "markdown",
      "id": "bT_j1FQIe1MC",
      "metadata": {
        "id": "bT_j1FQIe1MC"
      },
      "source": [
        "Let's reformat this as we did before:"
      ]
    },
    {
      "cell_type": "code",
      "execution_count": null,
      "id": "srLYl1rPfFrO",
      "metadata": {
        "id": "srLYl1rPfFrO"
      },
      "outputs": [],
      "source": [
        "schools.reset_index(inplace=True)\n",
        "schoolBoston=schools[['element','name','geometry']].copy()\n",
        "schoolBoston.fillna({'name':'Unknown'},inplace=True)\n",
        "schoolBoston['newname']=schoolBoston.index.astype(str)+\"_\"+schoolBoston.name\n",
        "schoolBoston.set_index('newname',inplace=True)\n",
        "schoolBoston.drop(columns=['name'],inplace=True)\n",
        "schoolBoston = schoolBoston.to_crs(Boston_crs)\n",
        "schoolBoston.head()\n"
      ]
    },
    {
      "cell_type": "markdown",
      "id": "HeoQ4Xwsfiyb",
      "metadata": {
        "id": "HeoQ4Xwsfiyb"
      },
      "source": [
        "See element vs geo:"
      ]
    },
    {
      "cell_type": "code",
      "execution_count": null,
      "id": "tx6GOyWKYwC-",
      "metadata": {
        "id": "tx6GOyWKYwC-"
      },
      "outputs": [],
      "source": [
        "pd.crosstab(schoolBoston.element,schoolBoston.geometry.geom_type, margins=True)"
      ]
    },
    {
      "cell_type": "code",
      "execution_count": null,
      "id": "2QSAaVVwKc6k",
      "metadata": {
        "id": "2QSAaVVwKc6k"
      },
      "outputs": [],
      "source": [
        "#original data\n",
        "schools[(schools.element=='relation') & (schools.geometry.geom_type=='MultiPolygon')]"
      ]
    },
    {
      "cell_type": "code",
      "execution_count": null,
      "id": "qT5NzkH3KFRv",
      "metadata": {
        "id": "qT5NzkH3KFRv"
      },
      "outputs": [],
      "source": [
        "schoolBoston[(schoolBoston.element=='relation') & (schoolBoston.geometry.geom_type=='MultiPolygon')].plot()"
      ]
    },
    {
      "cell_type": "code",
      "execution_count": null,
      "id": "J4oqJx_9MWEm",
      "metadata": {
        "id": "J4oqJx_9MWEm"
      },
      "outputs": [],
      "source": [
        "base=boston.explore(tiles='cartodbpositron',color='lightblue')\n",
        "schoolBoston.explore(m=base,color='k')\n",
        "fuelBoston.explore(m=base,color='red')"
      ]
    },
    {
      "cell_type": "markdown",
      "id": "68p74QZ8frrP",
      "metadata": {
        "id": "68p74QZ8frrP"
      },
      "source": [
        "# Explore proximity:\n",
        "\n",
        "\n",
        "Let's compute a couple of distance matrices.\n",
        "\n",
        "- The distance among fuel stations"
      ]
    },
    {
      "cell_type": "code",
      "execution_count": null,
      "id": "4SV902tR14qi",
      "metadata": {
        "id": "4SV902tR14qi"
      },
      "outputs": [],
      "source": [
        "D_Matrix_fuel_fuel=fuelBoston.geometry.apply\\\n",
        "(lambda station: fuelBoston.geometry.distance(station))\n",
        "\n",
        "D_Matrix_fuel_fuel"
      ]
    },
    {
      "cell_type": "markdown",
      "id": "zthsntJs2m5M",
      "metadata": {
        "id": "zthsntJs2m5M"
      },
      "source": [
        "From here, we can compute the minimal distance among those gas stations:"
      ]
    },
    {
      "cell_type": "code",
      "execution_count": null,
      "id": "tmQv3SmO2EpD",
      "metadata": {
        "id": "tmQv3SmO2EpD"
      },
      "outputs": [],
      "source": [
        "D_Matrix_fuel_fuel.replace(0,None,inplace=True) # avoid the zero\n",
        "D_Matrix_fuel_fuel.min(axis=1).sort_values().head(10)"
      ]
    },
    {
      "cell_type": "markdown",
      "id": "FtIR53ZJYVL8",
      "metadata": {
        "id": "FtIR53ZJYVL8"
      },
      "source": [
        "- The distance among gas stations and schools:"
      ]
    },
    {
      "cell_type": "code",
      "execution_count": null,
      "id": "pO4jMnOYbhND",
      "metadata": {
        "id": "pO4jMnOYbhND"
      },
      "outputs": [],
      "source": [
        "D_Matrix_fuel_school=fuelBoston.geometry.apply\\\n",
        "(lambda station: schoolBoston.geometry.distance(station))\n",
        "\n",
        "D_Matrix_fuel_school"
      ]
    },
    {
      "cell_type": "markdown",
      "id": "ZGOND4HlRQJ3",
      "metadata": {
        "id": "ZGOND4HlRQJ3"
      },
      "source": [
        "# Decision 1: Find the stations that should go away\n",
        "\n",
        "\n",
        "\n",
        "Now, we could compute the minimal distance from a gas station to a school, and sort the stations by that value:"
      ]
    },
    {
      "cell_type": "code",
      "execution_count": null,
      "id": "rzU2p2wcqzDm",
      "metadata": {
        "id": "rzU2p2wcqzDm"
      },
      "outputs": [],
      "source": [
        "D_Matrix_fuel_school.min(axis=1).sort_values().head(10)"
      ]
    },
    {
      "cell_type": "markdown",
      "id": "SBA554fzRlk-",
      "metadata": {
        "id": "SBA554fzRlk-"
      },
      "source": [
        "By the previous exploration, we may decide that no station should at 100 or less from a school:"
      ]
    },
    {
      "cell_type": "code",
      "execution_count": null,
      "id": "o5UYC185mK33",
      "metadata": {
        "id": "o5UYC185mK33"
      },
      "outputs": [],
      "source": [
        "mindDist=100"
      ]
    },
    {
      "cell_type": "markdown",
      "id": "fm3ZKpzHcliF",
      "metadata": {
        "id": "fm3ZKpzHcliF"
      },
      "source": [
        "# Decision 2: Secure perimeter of every school\n",
        "\n",
        "Let's create the safe area around the school. This requires **buffer**:"
      ]
    },
    {
      "cell_type": "code",
      "execution_count": null,
      "id": "1wpXxvQZ5IRR",
      "metadata": {
        "id": "1wpXxvQZ5IRR"
      },
      "outputs": [],
      "source": [
        "schoolBoston_buffered=schoolBoston.buffer(mindDist)\n",
        "schoolBoston_buffered"
      ]
    },
    {
      "cell_type": "code",
      "execution_count": null,
      "id": "0Nz45Cd35cnr",
      "metadata": {
        "id": "0Nz45Cd35cnr"
      },
      "outputs": [],
      "source": [
        "#remember we have\n",
        "type(schoolBoston_buffered)"
      ]
    },
    {
      "cell_type": "markdown",
      "id": "RzKELz9jc_No",
      "metadata": {
        "id": "RzKELz9jc_No"
      },
      "source": [
        "Turning GS into GDF:"
      ]
    },
    {
      "cell_type": "code",
      "execution_count": null,
      "id": "wpmnOxiW5gkF",
      "metadata": {
        "id": "wpmnOxiW5gkF"
      },
      "outputs": [],
      "source": [
        "secured_schoolBoston=gpd.GeoDataFrame(geometry=schoolBoston_buffered)\n",
        "secured_schoolBoston"
      ]
    },
    {
      "cell_type": "markdown",
      "id": "5Nz8VhIodGkm",
      "metadata": {
        "id": "5Nz8VhIodGkm"
      },
      "source": [
        "Buffers created polygons:"
      ]
    },
    {
      "cell_type": "code",
      "execution_count": null,
      "id": "CYy9Bmw051gF",
      "metadata": {
        "id": "CYy9Bmw051gF"
      },
      "outputs": [],
      "source": [
        "secured_schoolBoston.geometry.geom_type.value_counts()"
      ]
    },
    {
      "cell_type": "markdown",
      "id": "z99CNyAlnYEe",
      "metadata": {
        "id": "z99CNyAlnYEe"
      },
      "source": [
        "# Decision 3: Standardized Gas stations geometries"
      ]
    },
    {
      "cell_type": "markdown",
      "id": "sOwWFNobdgc9",
      "metadata": {
        "id": "sOwWFNobdgc9"
      },
      "source": [
        "Not all gas stations are points:"
      ]
    },
    {
      "cell_type": "code",
      "execution_count": null,
      "id": "W7Y2cIYx5-oU",
      "metadata": {
        "id": "W7Y2cIYx5-oU"
      },
      "outputs": [],
      "source": [
        "fuelBoston.geometry.geom_type.value_counts()"
      ]
    },
    {
      "cell_type": "markdown",
      "id": "jgcTZOR1doxF",
      "metadata": {
        "id": "jgcTZOR1doxF"
      },
      "source": [
        "The point is a simple representation. Then let's make a buffer of 10 meters for every station to make sure the station is selected even if we just had one of its points."
      ]
    },
    {
      "cell_type": "code",
      "execution_count": null,
      "id": "wzRHu5oT6GwO",
      "metadata": {
        "id": "wzRHu5oT6GwO"
      },
      "outputs": [],
      "source": [
        "fuelBoston_allPoly=fuelBoston.copy()\n",
        "fuelBoston_allPoly['geometry'] = [\n",
        "    station.buffer(10) if station.geom_type == 'Point' else station\n",
        "    for station in fuelBoston.geometry\n",
        "]"
      ]
    },
    {
      "cell_type": "code",
      "execution_count": null,
      "id": "q4QQatQbf94P",
      "metadata": {
        "id": "q4QQatQbf94P"
      },
      "outputs": [],
      "source": [
        "# rechecking\n",
        "fuelBoston_allPoly.geometry.geom_type.value_counts()"
      ]
    },
    {
      "cell_type": "markdown",
      "id": "HlPxucnwf745",
      "metadata": {
        "id": "HlPxucnwf745"
      },
      "source": [
        "# Decision 4: Overlay or SJoin to determine gas stations in trouble\n",
        "\n",
        "This is great moment to test our understanding of these ops:\n",
        "\n",
        "- do you want to move the points from the gas stations that are close to the schools?"
      ]
    },
    {
      "cell_type": "code",
      "execution_count": null,
      "id": "Zh8YLigx3awb",
      "metadata": {
        "id": "Zh8YLigx3awb"
      },
      "outputs": [],
      "source": [
        "fuelBoston_allPoly.overlay(secured_schoolBoston,how='intersection',keep_geom_type=False)"
      ]
    },
    {
      "cell_type": "markdown",
      "id": "SDzO1-Jtj9bq",
      "metadata": {
        "id": "SDzO1-Jtj9bq"
      },
      "source": [
        "- do you want to move the gas stations that are close to the schools?"
      ]
    },
    {
      "cell_type": "code",
      "execution_count": null,
      "id": "48ZGw-PH7aNZ",
      "metadata": {
        "id": "48ZGw-PH7aNZ"
      },
      "outputs": [],
      "source": [
        "fuelBoston_allPoly.sjoin(secured_schoolBoston,how='inner',predicate='intersects')"
      ]
    },
    {
      "cell_type": "markdown",
      "id": "-KJZmeDKoL-h",
      "metadata": {
        "id": "-KJZmeDKoL-h"
      },
      "source": [
        "The obvious choice is using **sjoin** + **intersects** (why not within?)."
      ]
    },
    {
      "cell_type": "code",
      "execution_count": null,
      "id": "TdBKjaCLlHGW",
      "metadata": {
        "id": "TdBKjaCLlHGW"
      },
      "outputs": [],
      "source": [
        "gas_relocate=fuelBoston_allPoly.sjoin(secured_schoolBoston,how='inner',predicate='intersects')"
      ]
    },
    {
      "cell_type": "markdown",
      "id": "UeqOe9cdo2bV",
      "metadata": {
        "id": "UeqOe9cdo2bV"
      },
      "source": [
        "It is possible the index may have duplicates:"
      ]
    },
    {
      "cell_type": "code",
      "execution_count": null,
      "id": "Bj94wzWkqVwe",
      "metadata": {
        "id": "Bj94wzWkqVwe"
      },
      "outputs": [],
      "source": [
        "is_duplicate = gas_relocate.index.duplicated(keep=False)\n",
        "\n",
        "gas_relocate[is_duplicate]"
      ]
    },
    {
      "cell_type": "markdown",
      "id": "zRbysMReseZB",
      "metadata": {
        "id": "zRbysMReseZB"
      },
      "source": [
        "Remember our names are on the row index, then:"
      ]
    },
    {
      "cell_type": "code",
      "execution_count": null,
      "id": "qpsLI0bLrttq",
      "metadata": {
        "id": "qpsLI0bLrttq"
      },
      "outputs": [],
      "source": [
        "# put the index as a column: reset_index(drop=False)\n",
        "# drop duplicates in that column:drop_duplicates(subset='newname_left')\n",
        "# column bask to index : set_index('newname_left')\n",
        "\n",
        "gas_relocate.reset_index(drop=False).\\\n",
        "drop_duplicates(subset='newname_left').\\\n",
        "set_index('newname_left')"
      ]
    },
    {
      "cell_type": "code",
      "execution_count": null,
      "id": "PGh1yyf7uCxv",
      "metadata": {
        "id": "PGh1yyf7uCxv"
      },
      "outputs": [],
      "source": [
        "#making the actual change\n",
        "gas_relocate= gas_relocate.reset_index(drop=False).drop_duplicates(subset='newname_left').\\\n",
        "              set_index('newname_left')"
      ]
    },
    {
      "cell_type": "markdown",
      "id": "bTm5C-FauQLG",
      "metadata": {
        "id": "bTm5C-FauQLG"
      },
      "source": [
        "Let's see both schools and those stations to relocate:"
      ]
    },
    {
      "cell_type": "code",
      "execution_count": null,
      "id": "viliofJC6VyP",
      "metadata": {
        "id": "viliofJC6VyP"
      },
      "outputs": [],
      "source": [
        "base=secured_schoolBoston.sjoin(gas_relocate,how='inner',predicate='intersects').explore(color='yellow', tiles='cartodbpositron')\n",
        "gas_relocate.explore(m=base,color='red')"
      ]
    },
    {
      "cell_type": "markdown",
      "id": "_m1SRmJuu50i",
      "metadata": {
        "id": "_m1SRmJuu50i"
      },
      "source": [
        "# Decision 5: Find suitable places for the stations in trouble\n",
        "\n",
        "\n",
        "We can not put the gas stations anywhere. They need to be situated on driveable routes, not inside a house or building.\n",
        "\n",
        "\n",
        "- Find suitable locations along routes\n",
        "\n",
        "Let's get the streets from Boston with the help of OSM:"
      ]
    },
    {
      "cell_type": "code",
      "execution_count": null,
      "id": "4-IzBZkxBSQs",
      "metadata": {
        "id": "4-IzBZkxBSQs"
      },
      "outputs": [],
      "source": [
        "# Define the place\n",
        "place = \"Boston, Massachusetts, USA\"\n",
        "\n",
        "# Download the street network graph for Boston\n",
        "G = ox.graph_from_place(place, network_type=\"drive\")\n",
        "\n",
        "# Convert the graph edges (streets) to a GeoDataFrame\n",
        "streets = ox.graph_to_gdfs(G, nodes=False, edges=True)\n",
        "\n",
        "streets.shape"
      ]
    },
    {
      "cell_type": "markdown",
      "id": "E1uzP6rhyMi0",
      "metadata": {
        "id": "E1uzP6rhyMi0"
      },
      "source": [
        "You see we got a huge set of routes:"
      ]
    },
    {
      "cell_type": "code",
      "execution_count": null,
      "id": "tlT4_11IHZB-",
      "metadata": {
        "id": "tlT4_11IHZB-"
      },
      "outputs": [],
      "source": [
        "streets.info()"
      ]
    },
    {
      "cell_type": "markdown",
      "id": "2QSm3AhsyYmh",
      "metadata": {
        "id": "2QSm3AhsyYmh"
      },
      "source": [
        "Let's pay attention to the 'highway' column:"
      ]
    },
    {
      "cell_type": "code",
      "execution_count": null,
      "id": "EhNN3ItwC1ID",
      "metadata": {
        "id": "EhNN3ItwC1ID"
      },
      "outputs": [],
      "source": [
        "streets.highway.value_counts().index"
      ]
    },
    {
      "cell_type": "code",
      "execution_count": null,
      "id": "c-eropECCKkh",
      "metadata": {
        "id": "c-eropECCKkh"
      },
      "outputs": [],
      "source": [
        "GAS_STATION_ROAD_TYPES = [\n",
        "    'motorway',      # High-speed limited access roads\n",
        "    'primary',       # Major national roads\n",
        "    'trunk',         # Important regional roads\n",
        "    'motorway_link', # Motorway entrance/exit ramps\n",
        "    'primary_link',  # Primary road connectors\n",
        "    'trunk_link',     # Trunk road connectors\n",
        "    ['motorway', 'trunk'],\n",
        "    ['primary', 'motorway_link'],\n",
        "    ['primary', 'primary_link']\n",
        "]\n",
        "\n",
        "suitable_roads = streets[streets.highway.isin(GAS_STATION_ROAD_TYPES)]\n",
        "\n",
        "suitable_roads.shape"
      ]
    },
    {
      "cell_type": "markdown",
      "id": "LAfcN1u6j5lw",
      "metadata": {
        "id": "LAfcN1u6j5lw"
      },
      "source": [
        "Let's reproject:"
      ]
    },
    {
      "cell_type": "code",
      "execution_count": null,
      "id": "rkvqqUInHR-O",
      "metadata": {
        "id": "rkvqqUInHR-O"
      },
      "outputs": [],
      "source": [
        "suitable_roads = suitable_roads.to_crs(boston.crs)"
      ]
    },
    {
      "cell_type": "markdown",
      "id": "H6eVgDgZ3F_h",
      "metadata": {
        "id": "H6eVgDgZ3F_h"
      },
      "source": [
        "The possible locations should be:\n",
        "- Far enough from schools. They should be far from the GDF **secured_schoolBoston** (already buffered with a secure radius) .\n",
        "- Far from other Gast stations. From **fuelBoston_allPoly** we could add a secured distance. This GDF was was buffered, but just to include the building, so we need to re buffer.\n",
        "\n",
        "Then, we need to create a buffer around the stations:"
      ]
    },
    {
      "cell_type": "code",
      "execution_count": null,
      "id": "NHMgK1hS4JBK",
      "metadata": {
        "id": "NHMgK1hS4JBK"
      },
      "outputs": [],
      "source": [
        "competitionDistance=100 # a safe value from above 'D_Matrix_fuel_fuel'\n",
        "fuelBoston_allPoly_buffered=fuelBoston_allPoly.buffer(competitionDistance)"
      ]
    },
    {
      "cell_type": "markdown",
      "id": "V5WT4iCEBq0J",
      "metadata": {
        "id": "V5WT4iCEBq0J"
      },
      "source": [
        "Do we have a GDF?"
      ]
    },
    {
      "cell_type": "code",
      "execution_count": null,
      "id": "1rmwufoXBtie",
      "metadata": {
        "id": "1rmwufoXBtie"
      },
      "outputs": [],
      "source": [
        "type(fuelBoston_allPoly_buffered)"
      ]
    },
    {
      "cell_type": "code",
      "execution_count": null,
      "id": "kkluIrFEB9BQ",
      "metadata": {
        "id": "kkluIrFEB9BQ"
      },
      "outputs": [],
      "source": [
        "secured_fuelBoston_allPoly=gpd.GeoDataFrame(geometry=fuelBoston_allPoly_buffered)\n"
      ]
    },
    {
      "cell_type": "markdown",
      "id": "arhw7k914m7d",
      "metadata": {
        "id": "arhw7k914m7d"
      },
      "source": [
        "Let's combine the secured areas:\n",
        "\n"
      ]
    },
    {
      "cell_type": "code",
      "execution_count": null,
      "id": "RbHtRpc_mnFy",
      "metadata": {
        "id": "RbHtRpc_mnFy"
      },
      "outputs": [],
      "source": [
        "secured_areas_dissolved=secured_fuelBoston_allPoly.overlay(secured_schoolBoston,how='union',keep_geom_type=False).dissolve()\n",
        "secured_areas=gpd.GeoDataFrame(geometry=secured_areas_dissolved.geometry)"
      ]
    },
    {
      "cell_type": "markdown",
      "id": "VhHqvv-CnuPF",
      "metadata": {
        "id": "VhHqvv-CnuPF"
      },
      "source": [
        "- Filter the roads. We can NOT choose a location that intersects with the secured areas:"
      ]
    },
    {
      "cell_type": "markdown",
      "id": "IjDruYuVmxd4",
      "metadata": {
        "id": "IjDruYuVmxd4"
      },
      "source": [
        "Choose: **overlay** vs **sjoin** vs **clip**?"
      ]
    },
    {
      "cell_type": "code",
      "execution_count": null,
      "id": "uoMRQTxe5Saa",
      "metadata": {
        "id": "uoMRQTxe5Saa"
      },
      "outputs": [],
      "source": [
        "suitable_roads.clip(secured_areas,keep_geom_type=False).plot()"
      ]
    },
    {
      "cell_type": "code",
      "execution_count": null,
      "id": "FQQt71vm5xX6",
      "metadata": {
        "id": "FQQt71vm5xX6"
      },
      "outputs": [],
      "source": [
        "suitable_roads.overlay(secured_areas,keep_geom_type=False, how='difference').plot()"
      ]
    },
    {
      "cell_type": "code",
      "execution_count": null,
      "id": "YCHEHx5s5mCA",
      "metadata": {
        "id": "YCHEHx5s5mCA"
      },
      "outputs": [],
      "source": [
        "suitable_roads.sjoin(secured_areas, predicate='intersects').plot()"
      ]
    },
    {
      "cell_type": "markdown",
      "id": "vaHbe7-E8y0H",
      "metadata": {
        "id": "vaHbe7-E8y0H"
      },
      "source": [
        "Why **clip** is a poor choice?\n",
        "- Keeps only the parts that overlap with the mask. We want the opposite - to remove the overlapping parts (this would give you only roads inside school zones (the exact opposite!))\n",
        "\n",
        "Why **sjoin** is a poor choice?\n",
        "- You do get the precise locations that should not be included, you get the whole row element (more area). Since sjoin does not have a **not-intersects** predicate, this will also be wrong:\n",
        "\n",
        "```\n",
        "bad_geoms = suitable_roads.clip(secured_areas)\n",
        "good_segments = suitable_roads.overlay(bad_geoms, how='difference')\n",
        "```\n",
        "\n",
        "Then:"
      ]
    },
    {
      "cell_type": "code",
      "execution_count": null,
      "id": "XMd_BHyM_-Zj",
      "metadata": {
        "id": "XMd_BHyM_-Zj"
      },
      "outputs": [],
      "source": [
        "good_routes_forGas_dissolved=suitable_roads.overlay(secured_areas,keep_geom_type=False, how='difference').dissolve()\n",
        "good_routes_forGas=gpd.GeoDataFrame(geometry=good_routes_forGas_dissolved.geometry)\n",
        "good_routes_forGas"
      ]
    },
    {
      "cell_type": "code",
      "execution_count": null,
      "id": "-v8btit5CyY8",
      "metadata": {
        "id": "-v8btit5CyY8"
      },
      "outputs": [],
      "source": [
        "good_routes_forGas.plot()"
      ]
    },
    {
      "cell_type": "markdown",
      "id": "nic4uRepDLkq",
      "metadata": {
        "id": "nic4uRepDLkq"
      },
      "source": [
        "We may choose a location from those places:"
      ]
    },
    {
      "cell_type": "code",
      "execution_count": null,
      "id": "wYoGubsIDlNx",
      "metadata": {
        "id": "wYoGubsIDlNx"
      },
      "outputs": [],
      "source": [
        "# newCOMPETITORS=safe_fuelCompetitors_gdf.copy()\n",
        "potential_Locations=good_routes_forGas.copy()\n",
        "newPOLYGONS=[]\n",
        "pointsComputed=1\n",
        "attempts=1\n",
        "while pointsComputed<=len(gas_relocate):\n",
        "  candidatePoint=potential_Locations.sample_points(1)\n",
        "  candidateStation=gpd.GeoDataFrame(geometry=candidatePoint.buffer(100))\n",
        "  if candidateStation.overlay(secured_areas,how='intersection',keep_geom_type=False).empty:\n",
        "    newPOLYGONS.append(candidateStation)\n",
        "    pointsComputed+=1\n",
        "    potential_Locations=potential_Locations.overlay(candidateStation, how='difference', keep_geom_type=False)\n",
        "  if attempts>len(gas_relocate)*10:\n",
        "    break\n",
        "  attempts+=1\n",
        "\n",
        "# some info\n",
        "attempts,len(newPOLYGONS)\n",
        "\n"
      ]
    },
    {
      "cell_type": "code",
      "execution_count": null,
      "id": "snQ3y6EbDlVL",
      "metadata": {
        "id": "snQ3y6EbDlVL"
      },
      "outputs": [],
      "source": [
        "newPOLYGONS"
      ]
    },
    {
      "cell_type": "code",
      "execution_count": null,
      "id": "hwbSSNAmYmys",
      "metadata": {
        "id": "hwbSSNAmYmys"
      },
      "outputs": [],
      "source": [
        "pd.concat(newPOLYGONS)"
      ]
    },
    {
      "cell_type": "code",
      "execution_count": null,
      "id": "1IoUR4nfYqsN",
      "metadata": {
        "id": "1IoUR4nfYqsN"
      },
      "outputs": [],
      "source": [
        "GoodLocationsGas_buffered_gdf=pd.concat(newPOLYGONS)\n",
        "GoodLocationsGas_gdf=gpd.GeoDataFrame(geometry=GoodLocationsGas_buffered_gdf.centroid)"
      ]
    },
    {
      "cell_type": "code",
      "execution_count": null,
      "id": "GyYXNhlgDlch",
      "metadata": {
        "id": "GyYXNhlgDlch"
      },
      "outputs": [],
      "source": [
        "# original suitable roads\n",
        "base = suitable_roads.plot(color='yellow', figsize=(10, 10),zorder=1)\n",
        "\n",
        "# non-overlapping buffers\n",
        "GoodLocationsGas_buffered_gdf.plot(ax=base, edgecolor='red', marker=\"+\", facecolor='none',zorder=2)\n",
        "\n",
        "# center points of the buffers\n",
        "GoodLocationsGas_gdf.plot(ax=base, color='red', marker=\"+\", markersize=50,zorder=3)\n",
        "\n",
        "# all stations\n",
        "fuelBoston.plot(ax=base,color='k',zorder=4)\n",
        "schoolBoston.plot(ax=base,color='green',zorder=5)\n",
        "\n",
        "# stations to relocate\n",
        "fuelBoston.clip(gas_relocate).plot(ax=base,color='magenta',zorder=5)\n"
      ]
    },
    {
      "cell_type": "markdown",
      "id": "6zR67piAIZV9",
      "metadata": {
        "id": "6zR67piAIZV9"
      },
      "source": [
        "## Reverse geocoding\n",
        "\n",
        "Just get some addresses:"
      ]
    },
    {
      "cell_type": "code",
      "execution_count": null,
      "id": "Iv8iApPZSOK-",
      "metadata": {
        "id": "Iv8iApPZSOK-"
      },
      "outputs": [],
      "source": [
        "from geopy.geocoders import Nominatim\n",
        "import time\n",
        "\n",
        "# Initialize geocoder\n",
        "geolocator = Nominatim(user_agent=\"boston_gas_stations\")\n",
        "\n",
        "def get_address(point):\n",
        "  # Now coordinates are in degrees (lon, lat)\n",
        "  lon = point.x\n",
        "  lat = point.y\n",
        "  location = geolocator.reverse((lat, lon), exactly_one=True, timeout=10)\n",
        "  time.sleep(1)  # Rate limiting\n",
        "\n",
        "  if location:\n",
        "    return location.address\n",
        "  else:\n",
        "    return None # not found"
      ]
    },
    {
      "cell_type": "code",
      "execution_count": null,
      "id": "ilzPnoHe6UXo",
      "metadata": {
        "id": "ilzPnoHe6UXo"
      },
      "outputs": [],
      "source": [
        "# Get addresses\n",
        "GoodLocationsGas_4326 = GoodLocationsGas_gdf.to_crs('EPSG:4326')\n",
        "GoodLocationsGas_gdf['address'] = GoodLocationsGas_4326.geometry.apply(get_address)"
      ]
    },
    {
      "cell_type": "code",
      "execution_count": null,
      "id": "fJo6mrCq84Cp",
      "metadata": {
        "id": "fJo6mrCq84Cp"
      },
      "outputs": [],
      "source": [
        "GoodLocationsGas_gdf"
      ]
    },
    {
      "cell_type": "markdown",
      "id": "e77f7e86-5b10-4d5e-8773-c494a41c775b",
      "metadata": {
        "id": "e77f7e86-5b10-4d5e-8773-c494a41c775b"
      },
      "source": [
        "______\n",
        "\n",
        "[BACK TO MAIN MENU](https://dacss-spatial.github.io/GDF_OPS_applications/)"
      ]
    },
    {
      "cell_type": "code",
      "execution_count": null,
      "id": "9d1b5e3b-8490-4619-8ead-59777c11f458",
      "metadata": {
        "id": "9d1b5e3b-8490-4619-8ead-59777c11f458"
      },
      "outputs": [],
      "source": []
    }
  ],
  "metadata": {
    "colab": {
      "provenance": []
    },
    "kernelspec": {
      "display_name": "Python 3 (ipykernel)",
      "language": "python",
      "name": "python3"
    },
    "language_info": {
      "codemirror_mode": {
        "name": "ipython",
        "version": 3
      },
      "file_extension": ".py",
      "mimetype": "text/x-python",
      "name": "python",
      "nbconvert_exporter": "python",
      "pygments_lexer": "ipython3",
      "version": "3.11.13"
    }
  },
  "nbformat": 4,
  "nbformat_minor": 5
}